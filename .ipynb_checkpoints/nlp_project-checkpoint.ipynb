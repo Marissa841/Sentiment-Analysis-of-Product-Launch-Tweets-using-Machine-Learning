{
 "cells": [
  {
   "cell_type": "code",
   "execution_count": 60,
   "id": "de6414bb",
   "metadata": {},
   "outputs": [],
   "source": [
    "# imports\n",
    "\n",
    "import pandas as pd\n",
    "import numpy as np\n",
    "import matplotlib.pyplot as plt\n",
    "\n",
    "from sklearn.feature_extraction.text import CountVectorizer\n",
    "from sklearn.model_selection import train_test_split\n",
    "from sklearn.linear_model import LogisticRegression\n",
    "from sklearn.tree import DecisionTreeClassifier\n",
    "from sklearn.ensemble import RandomForestClassifier\n",
    "from sklearn.feature_extraction.text import TfidfVectorizer\n",
    "from sklearn.metrics import plot_confusion_matrix\n",
    "from sklearn.metrics import f1_score\n",
    "\n",
    "import string\n",
    "\n",
    "from nltk.corpus import stopwords\n",
    "stop = stopwords.words('english')"
   ]
  },
  {
   "cell_type": "code",
   "execution_count": 61,
   "id": "442986e0",
   "metadata": {},
   "outputs": [
    {
     "data": {
      "text/html": [
       "<div>\n",
       "<style scoped>\n",
       "    .dataframe tbody tr th:only-of-type {\n",
       "        vertical-align: middle;\n",
       "    }\n",
       "\n",
       "    .dataframe tbody tr th {\n",
       "        vertical-align: top;\n",
       "    }\n",
       "\n",
       "    .dataframe thead th {\n",
       "        text-align: right;\n",
       "    }\n",
       "</style>\n",
       "<table border=\"1\" class=\"dataframe\">\n",
       "  <thead>\n",
       "    <tr style=\"text-align: right;\">\n",
       "      <th></th>\n",
       "      <th>tweet_text</th>\n",
       "      <th>emotion_in_tweet_is_directed_at</th>\n",
       "      <th>is_there_an_emotion_directed_at_a_brand_or_product</th>\n",
       "    </tr>\n",
       "  </thead>\n",
       "  <tbody>\n",
       "    <tr>\n",
       "      <th>0</th>\n",
       "      <td>.@wesley83 I have a 3G iPhone. After 3 hrs twe...</td>\n",
       "      <td>iPhone</td>\n",
       "      <td>Negative emotion</td>\n",
       "    </tr>\n",
       "    <tr>\n",
       "      <th>1</th>\n",
       "      <td>@jessedee Know about @fludapp ? Awesome iPad/i...</td>\n",
       "      <td>iPad or iPhone App</td>\n",
       "      <td>Positive emotion</td>\n",
       "    </tr>\n",
       "    <tr>\n",
       "      <th>2</th>\n",
       "      <td>@swonderlin Can not wait for #iPad 2 also. The...</td>\n",
       "      <td>iPad</td>\n",
       "      <td>Positive emotion</td>\n",
       "    </tr>\n",
       "    <tr>\n",
       "      <th>3</th>\n",
       "      <td>@sxsw I hope this year's festival isn't as cra...</td>\n",
       "      <td>iPad or iPhone App</td>\n",
       "      <td>Negative emotion</td>\n",
       "    </tr>\n",
       "    <tr>\n",
       "      <th>4</th>\n",
       "      <td>@sxtxstate great stuff on Fri #SXSW: Marissa M...</td>\n",
       "      <td>Google</td>\n",
       "      <td>Positive emotion</td>\n",
       "    </tr>\n",
       "  </tbody>\n",
       "</table>\n",
       "</div>"
      ],
      "text/plain": [
       "                                          tweet_text  \\\n",
       "0  .@wesley83 I have a 3G iPhone. After 3 hrs twe...   \n",
       "1  @jessedee Know about @fludapp ? Awesome iPad/i...   \n",
       "2  @swonderlin Can not wait for #iPad 2 also. The...   \n",
       "3  @sxsw I hope this year's festival isn't as cra...   \n",
       "4  @sxtxstate great stuff on Fri #SXSW: Marissa M...   \n",
       "\n",
       "  emotion_in_tweet_is_directed_at  \\\n",
       "0                          iPhone   \n",
       "1              iPad or iPhone App   \n",
       "2                            iPad   \n",
       "3              iPad or iPhone App   \n",
       "4                          Google   \n",
       "\n",
       "  is_there_an_emotion_directed_at_a_brand_or_product  \n",
       "0                                   Negative emotion  \n",
       "1                                   Positive emotion  \n",
       "2                                   Positive emotion  \n",
       "3                                   Negative emotion  \n",
       "4                                   Positive emotion  "
      ]
     },
     "execution_count": 61,
     "metadata": {},
     "output_type": "execute_result"
    }
   ],
   "source": [
    "# load in the dataset\n",
    "\n",
    "df = pd.read_csv(\"emoting_tweets.csv\", encoding_errors=\"ignore\")\n",
    "df.head()"
   ]
  },
  {
   "cell_type": "code",
   "execution_count": 62,
   "id": "20a95d00",
   "metadata": {},
   "outputs": [],
   "source": [
    "# rename target column\n",
    "\n",
    "df[\"target\"] = df[\"is_there_an_emotion_directed_at_a_brand_or_product\"]"
   ]
  },
  {
   "cell_type": "code",
   "execution_count": 63,
   "id": "fc1c72d3",
   "metadata": {},
   "outputs": [],
   "source": [
    "# drop former target column to clean up dataset\n",
    "\n",
    "df.drop(columns=[\"is_there_an_emotion_directed_at_a_brand_or_product\"], inplace=True)"
   ]
  },
  {
   "cell_type": "code",
   "execution_count": 64,
   "id": "bbd245d1",
   "metadata": {},
   "outputs": [
    {
     "data": {
      "text/plain": [
       "No emotion toward brand or product    0.592654\n",
       "Positive emotion                      0.327505\n",
       "Negative emotion                      0.062686\n",
       "I can't tell                          0.017156\n",
       "Name: target, dtype: float64"
      ]
     },
     "execution_count": 64,
     "metadata": {},
     "output_type": "execute_result"
    }
   ],
   "source": [
    "# view target column distribution \n",
    "\n",
    "df[\"target\"].value_counts(normalize=True)"
   ]
  },
  {
   "cell_type": "code",
   "execution_count": 65,
   "id": "7768b335",
   "metadata": {},
   "outputs": [],
   "source": [
    "# drop two unnecessary columns\n",
    "\n",
    "df = df[(df[\"target\"] != \"No emotion toward brand or product\") & (df[\"target\"] != \"I can't tell\")]"
   ]
  },
  {
   "cell_type": "code",
   "execution_count": 66,
   "id": "d43a77cc",
   "metadata": {},
   "outputs": [
    {
     "data": {
      "text/plain": [
       "Positive emotion    0.839346\n",
       "Negative emotion    0.160654\n",
       "Name: target, dtype: float64"
      ]
     },
     "execution_count": 66,
     "metadata": {},
     "output_type": "execute_result"
    }
   ],
   "source": [
    "# view target column distribution\n",
    "\n",
    "df[\"target\"].value_counts(normalize=True)"
   ]
  },
  {
   "cell_type": "code",
   "execution_count": 67,
   "id": "812ed486",
   "metadata": {},
   "outputs": [
    {
     "data": {
      "text/plain": [
       "Positive emotion    2978\n",
       "Negative emotion     570\n",
       "Name: target, dtype: int64"
      ]
     },
     "execution_count": 67,
     "metadata": {},
     "output_type": "execute_result"
    }
   ],
   "source": [
    "# view target column counts\n",
    "\n",
    "df[\"target\"].value_counts()"
   ]
  },
  {
   "cell_type": "code",
   "execution_count": 68,
   "id": "4ae26766",
   "metadata": {},
   "outputs": [],
   "source": [
    "# change \"Positive emotion\" to equal 1 and \"Negative emotion\" to equal 0\n",
    "\n",
    "df[\"target\"] = np.where(df['target'] == \"Positive emotion\", 1, 0)"
   ]
  },
  {
   "cell_type": "code",
   "execution_count": 69,
   "id": "2c41c1bd",
   "metadata": {},
   "outputs": [
    {
     "data": {
      "text/plain": [
       "1    2978\n",
       "0     570\n",
       "Name: target, dtype: int64"
      ]
     },
     "execution_count": 69,
     "metadata": {},
     "output_type": "execute_result"
    }
   ],
   "source": [
    "# confirm change\n",
    "\n",
    "df[\"target\"].value_counts()"
   ]
  },
  {
   "cell_type": "code",
   "execution_count": 70,
   "id": "e00c2d68",
   "metadata": {},
   "outputs": [],
   "source": [
    "# pd.get_dummies(df[\"target\"], drop_first=True)"
   ]
  },
  {
   "cell_type": "code",
   "execution_count": 71,
   "id": "36060f0e",
   "metadata": {},
   "outputs": [],
   "source": [
    "#df = pd.concat([df, pd.get_dummies(df['target'], drop_first=True)], axis=1)\n",
    "#df.head()"
   ]
  },
  {
   "cell_type": "code",
   "execution_count": 72,
   "id": "e69b26d5",
   "metadata": {},
   "outputs": [],
   "source": [
    "#df[\"tweet_text\"].astype(str)"
   ]
  },
  {
   "cell_type": "code",
   "execution_count": 73,
   "id": "58570a4a",
   "metadata": {},
   "outputs": [],
   "source": [
    "#df[\"tweet_text\"].dtypes"
   ]
  },
  {
   "cell_type": "code",
   "execution_count": 74,
   "id": "1a5b145d",
   "metadata": {},
   "outputs": [
    {
     "data": {
      "text/html": [
       "<div>\n",
       "<style scoped>\n",
       "    .dataframe tbody tr th:only-of-type {\n",
       "        vertical-align: middle;\n",
       "    }\n",
       "\n",
       "    .dataframe tbody tr th {\n",
       "        vertical-align: top;\n",
       "    }\n",
       "\n",
       "    .dataframe thead th {\n",
       "        text-align: right;\n",
       "    }\n",
       "</style>\n",
       "<table border=\"1\" class=\"dataframe\">\n",
       "  <thead>\n",
       "    <tr style=\"text-align: right;\">\n",
       "      <th></th>\n",
       "      <th>tweet_text</th>\n",
       "      <th>emotion_in_tweet_is_directed_at</th>\n",
       "      <th>target</th>\n",
       "      <th>tweet_lowercase</th>\n",
       "    </tr>\n",
       "  </thead>\n",
       "  <tbody>\n",
       "    <tr>\n",
       "      <th>0</th>\n",
       "      <td>.@wesley83 I have a 3G iPhone. After 3 hrs twe...</td>\n",
       "      <td>iPhone</td>\n",
       "      <td>0</td>\n",
       "      <td>.@wesley83 i have a 3g iphone. after 3 hrs twe...</td>\n",
       "    </tr>\n",
       "    <tr>\n",
       "      <th>1</th>\n",
       "      <td>@jessedee Know about @fludapp ? Awesome iPad/i...</td>\n",
       "      <td>iPad or iPhone App</td>\n",
       "      <td>1</td>\n",
       "      <td>@jessedee know about @fludapp ? awesome ipad/i...</td>\n",
       "    </tr>\n",
       "    <tr>\n",
       "      <th>2</th>\n",
       "      <td>@swonderlin Can not wait for #iPad 2 also. The...</td>\n",
       "      <td>iPad</td>\n",
       "      <td>1</td>\n",
       "      <td>@swonderlin can not wait for #ipad 2 also. the...</td>\n",
       "    </tr>\n",
       "    <tr>\n",
       "      <th>3</th>\n",
       "      <td>@sxsw I hope this year's festival isn't as cra...</td>\n",
       "      <td>iPad or iPhone App</td>\n",
       "      <td>0</td>\n",
       "      <td>@sxsw i hope this year's festival isn't as cra...</td>\n",
       "    </tr>\n",
       "    <tr>\n",
       "      <th>4</th>\n",
       "      <td>@sxtxstate great stuff on Fri #SXSW: Marissa M...</td>\n",
       "      <td>Google</td>\n",
       "      <td>1</td>\n",
       "      <td>@sxtxstate great stuff on fri #sxsw: marissa m...</td>\n",
       "    </tr>\n",
       "  </tbody>\n",
       "</table>\n",
       "</div>"
      ],
      "text/plain": [
       "                                          tweet_text  \\\n",
       "0  .@wesley83 I have a 3G iPhone. After 3 hrs twe...   \n",
       "1  @jessedee Know about @fludapp ? Awesome iPad/i...   \n",
       "2  @swonderlin Can not wait for #iPad 2 also. The...   \n",
       "3  @sxsw I hope this year's festival isn't as cra...   \n",
       "4  @sxtxstate great stuff on Fri #SXSW: Marissa M...   \n",
       "\n",
       "  emotion_in_tweet_is_directed_at  target  \\\n",
       "0                          iPhone       0   \n",
       "1              iPad or iPhone App       1   \n",
       "2                            iPad       1   \n",
       "3              iPad or iPhone App       0   \n",
       "4                          Google       1   \n",
       "\n",
       "                                     tweet_lowercase  \n",
       "0  .@wesley83 i have a 3g iphone. after 3 hrs twe...  \n",
       "1  @jessedee know about @fludapp ? awesome ipad/i...  \n",
       "2  @swonderlin can not wait for #ipad 2 also. the...  \n",
       "3  @sxsw i hope this year's festival isn't as cra...  \n",
       "4  @sxtxstate great stuff on fri #sxsw: marissa m...  "
      ]
     },
     "execution_count": 74,
     "metadata": {},
     "output_type": "execute_result"
    }
   ],
   "source": [
    "# set text to lowercase\n",
    "\n",
    "df['tweet_lowercase'] = df['tweet_text'].map(lambda x: str(x).lower())\n",
    "df.head()"
   ]
  },
  {
   "cell_type": "code",
   "execution_count": 75,
   "id": "64f73640",
   "metadata": {},
   "outputs": [],
   "source": [
    "#string.punctuation"
   ]
  },
  {
   "cell_type": "code",
   "execution_count": 76,
   "id": "0814848b",
   "metadata": {},
   "outputs": [],
   "source": [
    "no_punctuation = []\n",
    "for s in df['tweet_lowercase']:\n",
    "    for p in string.punctuation:\n",
    "        s = s.replace(p, '')\n",
    "    no_punctuation.append(s)"
   ]
  },
  {
   "cell_type": "code",
   "execution_count": 77,
   "id": "3c42fa7e",
   "metadata": {},
   "outputs": [],
   "source": [
    "# add no_punction column to the dataframe\n",
    "\n",
    "df['no_punctuation'] = no_punctuation"
   ]
  },
  {
   "cell_type": "code",
   "execution_count": 78,
   "id": "7b5bb045",
   "metadata": {},
   "outputs": [
    {
     "data": {
      "text/html": [
       "<div>\n",
       "<style scoped>\n",
       "    .dataframe tbody tr th:only-of-type {\n",
       "        vertical-align: middle;\n",
       "    }\n",
       "\n",
       "    .dataframe tbody tr th {\n",
       "        vertical-align: top;\n",
       "    }\n",
       "\n",
       "    .dataframe thead th {\n",
       "        text-align: right;\n",
       "    }\n",
       "</style>\n",
       "<table border=\"1\" class=\"dataframe\">\n",
       "  <thead>\n",
       "    <tr style=\"text-align: right;\">\n",
       "      <th></th>\n",
       "      <th>tweet_text</th>\n",
       "      <th>emotion_in_tweet_is_directed_at</th>\n",
       "      <th>target</th>\n",
       "      <th>tweet_lowercase</th>\n",
       "      <th>no_punctuation</th>\n",
       "    </tr>\n",
       "  </thead>\n",
       "  <tbody>\n",
       "    <tr>\n",
       "      <th>0</th>\n",
       "      <td>.@wesley83 I have a 3G iPhone. After 3 hrs twe...</td>\n",
       "      <td>iPhone</td>\n",
       "      <td>0</td>\n",
       "      <td>.@wesley83 i have a 3g iphone. after 3 hrs twe...</td>\n",
       "      <td>wesley83 i have a 3g iphone after 3 hrs tweeti...</td>\n",
       "    </tr>\n",
       "    <tr>\n",
       "      <th>1</th>\n",
       "      <td>@jessedee Know about @fludapp ? Awesome iPad/i...</td>\n",
       "      <td>iPad or iPhone App</td>\n",
       "      <td>1</td>\n",
       "      <td>@jessedee know about @fludapp ? awesome ipad/i...</td>\n",
       "      <td>jessedee know about fludapp  awesome ipadiphon...</td>\n",
       "    </tr>\n",
       "    <tr>\n",
       "      <th>2</th>\n",
       "      <td>@swonderlin Can not wait for #iPad 2 also. The...</td>\n",
       "      <td>iPad</td>\n",
       "      <td>1</td>\n",
       "      <td>@swonderlin can not wait for #ipad 2 also. the...</td>\n",
       "      <td>swonderlin can not wait for ipad 2 also they s...</td>\n",
       "    </tr>\n",
       "    <tr>\n",
       "      <th>3</th>\n",
       "      <td>@sxsw I hope this year's festival isn't as cra...</td>\n",
       "      <td>iPad or iPhone App</td>\n",
       "      <td>0</td>\n",
       "      <td>@sxsw i hope this year's festival isn't as cra...</td>\n",
       "      <td>sxsw i hope this years festival isnt as crashy...</td>\n",
       "    </tr>\n",
       "    <tr>\n",
       "      <th>4</th>\n",
       "      <td>@sxtxstate great stuff on Fri #SXSW: Marissa M...</td>\n",
       "      <td>Google</td>\n",
       "      <td>1</td>\n",
       "      <td>@sxtxstate great stuff on fri #sxsw: marissa m...</td>\n",
       "      <td>sxtxstate great stuff on fri sxsw marissa maye...</td>\n",
       "    </tr>\n",
       "  </tbody>\n",
       "</table>\n",
       "</div>"
      ],
      "text/plain": [
       "                                          tweet_text  \\\n",
       "0  .@wesley83 I have a 3G iPhone. After 3 hrs twe...   \n",
       "1  @jessedee Know about @fludapp ? Awesome iPad/i...   \n",
       "2  @swonderlin Can not wait for #iPad 2 also. The...   \n",
       "3  @sxsw I hope this year's festival isn't as cra...   \n",
       "4  @sxtxstate great stuff on Fri #SXSW: Marissa M...   \n",
       "\n",
       "  emotion_in_tweet_is_directed_at  target  \\\n",
       "0                          iPhone       0   \n",
       "1              iPad or iPhone App       1   \n",
       "2                            iPad       1   \n",
       "3              iPad or iPhone App       0   \n",
       "4                          Google       1   \n",
       "\n",
       "                                     tweet_lowercase  \\\n",
       "0  .@wesley83 i have a 3g iphone. after 3 hrs twe...   \n",
       "1  @jessedee know about @fludapp ? awesome ipad/i...   \n",
       "2  @swonderlin can not wait for #ipad 2 also. the...   \n",
       "3  @sxsw i hope this year's festival isn't as cra...   \n",
       "4  @sxtxstate great stuff on fri #sxsw: marissa m...   \n",
       "\n",
       "                                      no_punctuation  \n",
       "0  wesley83 i have a 3g iphone after 3 hrs tweeti...  \n",
       "1  jessedee know about fludapp  awesome ipadiphon...  \n",
       "2  swonderlin can not wait for ipad 2 also they s...  \n",
       "3  sxsw i hope this years festival isnt as crashy...  \n",
       "4  sxtxstate great stuff on fri sxsw marissa maye...  "
      ]
     },
     "execution_count": 78,
     "metadata": {},
     "output_type": "execute_result"
    }
   ],
   "source": [
    "# view dataframe\n",
    "\n",
    "df.head()"
   ]
  },
  {
   "cell_type": "code",
   "execution_count": 79,
   "id": "1712238c",
   "metadata": {},
   "outputs": [
    {
     "data": {
      "text/plain": [
       "0       wesley83 i have a 3g iphone after 3 hrs tweeti...\n",
       "1       jessedee know about fludapp  awesome ipadiphon...\n",
       "2       swonderlin can not wait for ipad 2 also they s...\n",
       "3       sxsw i hope this years festival isnt as crashy...\n",
       "4       sxtxstate great stuff on fri sxsw marissa maye...\n",
       "                              ...                        \n",
       "9077    mention your pr guy just convinced me to switc...\n",
       "9079    quotpapyrussort of like the ipadquot  nice lol...\n",
       "9080    diller says google tv quotmight be run over by...\n",
       "9085    ive always used camera for my iphone bc it has...\n",
       "9088                            ipad everywhere sxsw link\n",
       "Name: no_punctuation, Length: 3548, dtype: object"
      ]
     },
     "execution_count": 79,
     "metadata": {},
     "output_type": "execute_result"
    }
   ],
   "source": [
    "df[\"no_punctuation\"]"
   ]
  },
  {
   "cell_type": "code",
   "execution_count": 80,
   "id": "383b4b9b",
   "metadata": {},
   "outputs": [],
   "source": [
    "# remove stop words\n",
    "\n",
    "df['tweets_without_stopwords'] = df['no_punctuation'].apply(\n",
    "    lambda x: ' '.join([word for word in x.split() if word not in (stop)]))"
   ]
  },
  {
   "cell_type": "code",
   "execution_count": 81,
   "id": "7f1ab054",
   "metadata": {},
   "outputs": [
    {
     "data": {
      "text/html": [
       "<div>\n",
       "<style scoped>\n",
       "    .dataframe tbody tr th:only-of-type {\n",
       "        vertical-align: middle;\n",
       "    }\n",
       "\n",
       "    .dataframe tbody tr th {\n",
       "        vertical-align: top;\n",
       "    }\n",
       "\n",
       "    .dataframe thead th {\n",
       "        text-align: right;\n",
       "    }\n",
       "</style>\n",
       "<table border=\"1\" class=\"dataframe\">\n",
       "  <thead>\n",
       "    <tr style=\"text-align: right;\">\n",
       "      <th></th>\n",
       "      <th>tweet_text</th>\n",
       "      <th>emotion_in_tweet_is_directed_at</th>\n",
       "      <th>target</th>\n",
       "      <th>tweet_lowercase</th>\n",
       "      <th>no_punctuation</th>\n",
       "      <th>tweets_without_stopwords</th>\n",
       "    </tr>\n",
       "  </thead>\n",
       "  <tbody>\n",
       "    <tr>\n",
       "      <th>0</th>\n",
       "      <td>.@wesley83 I have a 3G iPhone. After 3 hrs twe...</td>\n",
       "      <td>iPhone</td>\n",
       "      <td>0</td>\n",
       "      <td>.@wesley83 i have a 3g iphone. after 3 hrs twe...</td>\n",
       "      <td>wesley83 i have a 3g iphone after 3 hrs tweeti...</td>\n",
       "      <td>wesley83 3g iphone 3 hrs tweeting riseaustin d...</td>\n",
       "    </tr>\n",
       "    <tr>\n",
       "      <th>1</th>\n",
       "      <td>@jessedee Know about @fludapp ? Awesome iPad/i...</td>\n",
       "      <td>iPad or iPhone App</td>\n",
       "      <td>1</td>\n",
       "      <td>@jessedee know about @fludapp ? awesome ipad/i...</td>\n",
       "      <td>jessedee know about fludapp  awesome ipadiphon...</td>\n",
       "      <td>jessedee know fludapp awesome ipadiphone app y...</td>\n",
       "    </tr>\n",
       "    <tr>\n",
       "      <th>2</th>\n",
       "      <td>@swonderlin Can not wait for #iPad 2 also. The...</td>\n",
       "      <td>iPad</td>\n",
       "      <td>1</td>\n",
       "      <td>@swonderlin can not wait for #ipad 2 also. the...</td>\n",
       "      <td>swonderlin can not wait for ipad 2 also they s...</td>\n",
       "      <td>swonderlin wait ipad 2 also sale sxsw</td>\n",
       "    </tr>\n",
       "    <tr>\n",
       "      <th>3</th>\n",
       "      <td>@sxsw I hope this year's festival isn't as cra...</td>\n",
       "      <td>iPad or iPhone App</td>\n",
       "      <td>0</td>\n",
       "      <td>@sxsw i hope this year's festival isn't as cra...</td>\n",
       "      <td>sxsw i hope this years festival isnt as crashy...</td>\n",
       "      <td>sxsw hope years festival isnt crashy years iph...</td>\n",
       "    </tr>\n",
       "    <tr>\n",
       "      <th>4</th>\n",
       "      <td>@sxtxstate great stuff on Fri #SXSW: Marissa M...</td>\n",
       "      <td>Google</td>\n",
       "      <td>1</td>\n",
       "      <td>@sxtxstate great stuff on fri #sxsw: marissa m...</td>\n",
       "      <td>sxtxstate great stuff on fri sxsw marissa maye...</td>\n",
       "      <td>sxtxstate great stuff fri sxsw marissa mayer g...</td>\n",
       "    </tr>\n",
       "  </tbody>\n",
       "</table>\n",
       "</div>"
      ],
      "text/plain": [
       "                                          tweet_text  \\\n",
       "0  .@wesley83 I have a 3G iPhone. After 3 hrs twe...   \n",
       "1  @jessedee Know about @fludapp ? Awesome iPad/i...   \n",
       "2  @swonderlin Can not wait for #iPad 2 also. The...   \n",
       "3  @sxsw I hope this year's festival isn't as cra...   \n",
       "4  @sxtxstate great stuff on Fri #SXSW: Marissa M...   \n",
       "\n",
       "  emotion_in_tweet_is_directed_at  target  \\\n",
       "0                          iPhone       0   \n",
       "1              iPad or iPhone App       1   \n",
       "2                            iPad       1   \n",
       "3              iPad or iPhone App       0   \n",
       "4                          Google       1   \n",
       "\n",
       "                                     tweet_lowercase  \\\n",
       "0  .@wesley83 i have a 3g iphone. after 3 hrs twe...   \n",
       "1  @jessedee know about @fludapp ? awesome ipad/i...   \n",
       "2  @swonderlin can not wait for #ipad 2 also. the...   \n",
       "3  @sxsw i hope this year's festival isn't as cra...   \n",
       "4  @sxtxstate great stuff on fri #sxsw: marissa m...   \n",
       "\n",
       "                                      no_punctuation  \\\n",
       "0  wesley83 i have a 3g iphone after 3 hrs tweeti...   \n",
       "1  jessedee know about fludapp  awesome ipadiphon...   \n",
       "2  swonderlin can not wait for ipad 2 also they s...   \n",
       "3  sxsw i hope this years festival isnt as crashy...   \n",
       "4  sxtxstate great stuff on fri sxsw marissa maye...   \n",
       "\n",
       "                            tweets_without_stopwords  \n",
       "0  wesley83 3g iphone 3 hrs tweeting riseaustin d...  \n",
       "1  jessedee know fludapp awesome ipadiphone app y...  \n",
       "2              swonderlin wait ipad 2 also sale sxsw  \n",
       "3  sxsw hope years festival isnt crashy years iph...  \n",
       "4  sxtxstate great stuff fri sxsw marissa mayer g...  "
      ]
     },
     "execution_count": 81,
     "metadata": {},
     "output_type": "execute_result"
    }
   ],
   "source": [
    "# view dataframe\n",
    "\n",
    "df.head()"
   ]
  },
  {
   "cell_type": "code",
   "execution_count": 82,
   "id": "10473eb6",
   "metadata": {},
   "outputs": [
    {
     "data": {
      "text/plain": [
       "sxsw             3655\n",
       "mention          2482\n",
       "the              1884\n",
       "to               1415\n",
       "link             1310\n",
       "                 ... \n",
       "wonderful           1\n",
       "experimenting       1\n",
       "tinkering           1\n",
       "nineties            1\n",
       "stabilizer          1\n",
       "Length: 6571, dtype: int64"
      ]
     },
     "execution_count": 82,
     "metadata": {},
     "output_type": "execute_result"
    }
   ],
   "source": [
    "# view no_punctuation word distribution of tweets\n",
    "\n",
    "df[\"no_punctuation\"].str.split(expand=True).stack().value_counts()"
   ]
  },
  {
   "cell_type": "code",
   "execution_count": 83,
   "id": "d035f7c6",
   "metadata": {},
   "outputs": [
    {
     "data": {
      "text/plain": [
       "sxsw             3655\n",
       "mention          2482\n",
       "link             1310\n",
       "ipad             1164\n",
       "rt               1059\n",
       "                 ... \n",
       "ahh                 1\n",
       "wonderful           1\n",
       "experimenting       1\n",
       "tinkering           1\n",
       "stabilizer          1\n",
       "Length: 6448, dtype: int64"
      ]
     },
     "execution_count": 83,
     "metadata": {},
     "output_type": "execute_result"
    }
   ],
   "source": [
    "# view distribution of tweets_without_stopwords\n",
    "\n",
    "df['tweets_without_stopwords'].str.split(expand=True).stack().value_counts()"
   ]
  },
  {
   "cell_type": "code",
   "execution_count": 84,
   "id": "8ca0f369",
   "metadata": {},
   "outputs": [
    {
     "data": {
      "image/png": "[encoded data removed]",
      "text/plain": [
       "<Figure size 432x288 with 1 Axes>"
      ]
     },
     "metadata": {},
     "output_type": "display_data"
    }
   ],
   "source": [
    "# most common words from disaster \n",
    "\n",
    "with plt.style.context('fivethirtyeight'):\n",
    "    df[df['target'] == 1]['tweets_without_stopwords'].str.split(\n",
    "        expand=True).stack().value_counts().head(10).plot(kind='barh')"
   ]
  },
  {
   "cell_type": "code",
   "execution_count": 85,
   "id": "fd489e2d",
   "metadata": {},
   "outputs": [
    {
     "data": {
      "image/png": "[encoded data removed]",
      "text/plain": [
       "<Figure size 432x288 with 1 Axes>"
      ]
     },
     "metadata": {},
     "output_type": "display_data"
    }
   ],
   "source": [
    "# most common words from non-disaster \n",
    "\n",
    "with plt.style.context('fivethirtyeight'):\n",
    "    df[df['target'] == 0]['tweets_without_stopwords'].str.split(expand=True).stack().value_counts().head(10).plot(kind='barh')"
   ]
  },
  {
   "cell_type": "code",
   "execution_count": 86,
   "id": "3a4d25fd",
   "metadata": {},
   "outputs": [],
   "source": [
    "# most common words from non-disaster \n",
    "\n",
    "# with plt.style.context('fivethirtyeight'):\n",
    "    # df[df['target'] == \"No emotion toward brand or product\"]['tweets_without_stopwords'].str.split(expand=True).stack().value_counts().head(10).plot(kind='barh')"
   ]
  },
  {
   "cell_type": "code",
   "execution_count": 87,
   "id": "e608272d",
   "metadata": {},
   "outputs": [
    {
     "data": {
      "text/html": [
       "<div>\n",
       "<style scoped>\n",
       "    .dataframe tbody tr th:only-of-type {\n",
       "        vertical-align: middle;\n",
       "    }\n",
       "\n",
       "    .dataframe tbody tr th {\n",
       "        vertical-align: top;\n",
       "    }\n",
       "\n",
       "    .dataframe thead th {\n",
       "        text-align: right;\n",
       "    }\n",
       "</style>\n",
       "<table border=\"1\" class=\"dataframe\">\n",
       "  <thead>\n",
       "    <tr style=\"text-align: right;\">\n",
       "      <th></th>\n",
       "      <th>tweet_text</th>\n",
       "      <th>emotion_in_tweet_is_directed_at</th>\n",
       "      <th>target</th>\n",
       "      <th>tweet_lowercase</th>\n",
       "      <th>no_punctuation</th>\n",
       "      <th>tweets_without_stopwords</th>\n",
       "    </tr>\n",
       "  </thead>\n",
       "  <tbody>\n",
       "    <tr>\n",
       "      <th>0</th>\n",
       "      <td>.@wesley83 I have a 3G iPhone. After 3 hrs twe...</td>\n",
       "      <td>iPhone</td>\n",
       "      <td>0</td>\n",
       "      <td>.@wesley83 i have a 3g iphone. after 3 hrs twe...</td>\n",
       "      <td>wesley83 i have a 3g iphone after 3 hrs tweeti...</td>\n",
       "      <td>wesley83 3g iphone 3 hrs tweeting riseaustin d...</td>\n",
       "    </tr>\n",
       "    <tr>\n",
       "      <th>1</th>\n",
       "      <td>@jessedee Know about @fludapp ? Awesome iPad/i...</td>\n",
       "      <td>iPad or iPhone App</td>\n",
       "      <td>1</td>\n",
       "      <td>@jessedee know about @fludapp ? awesome ipad/i...</td>\n",
       "      <td>jessedee know about fludapp  awesome ipadiphon...</td>\n",
       "      <td>jessedee know fludapp awesome ipadiphone app y...</td>\n",
       "    </tr>\n",
       "    <tr>\n",
       "      <th>2</th>\n",
       "      <td>@swonderlin Can not wait for #iPad 2 also. The...</td>\n",
       "      <td>iPad</td>\n",
       "      <td>1</td>\n",
       "      <td>@swonderlin can not wait for #ipad 2 also. the...</td>\n",
       "      <td>swonderlin can not wait for ipad 2 also they s...</td>\n",
       "      <td>swonderlin wait ipad 2 also sale sxsw</td>\n",
       "    </tr>\n",
       "    <tr>\n",
       "      <th>3</th>\n",
       "      <td>@sxsw I hope this year's festival isn't as cra...</td>\n",
       "      <td>iPad or iPhone App</td>\n",
       "      <td>0</td>\n",
       "      <td>@sxsw i hope this year's festival isn't as cra...</td>\n",
       "      <td>sxsw i hope this years festival isnt as crashy...</td>\n",
       "      <td>sxsw hope years festival isnt crashy years iph...</td>\n",
       "    </tr>\n",
       "    <tr>\n",
       "      <th>4</th>\n",
       "      <td>@sxtxstate great stuff on Fri #SXSW: Marissa M...</td>\n",
       "      <td>Google</td>\n",
       "      <td>1</td>\n",
       "      <td>@sxtxstate great stuff on fri #sxsw: marissa m...</td>\n",
       "      <td>sxtxstate great stuff on fri sxsw marissa maye...</td>\n",
       "      <td>sxtxstate great stuff fri sxsw marissa mayer g...</td>\n",
       "    </tr>\n",
       "  </tbody>\n",
       "</table>\n",
       "</div>"
      ],
      "text/plain": [
       "                                          tweet_text  \\\n",
       "0  .@wesley83 I have a 3G iPhone. After 3 hrs twe...   \n",
       "1  @jessedee Know about @fludapp ? Awesome iPad/i...   \n",
       "2  @swonderlin Can not wait for #iPad 2 also. The...   \n",
       "3  @sxsw I hope this year's festival isn't as cra...   \n",
       "4  @sxtxstate great stuff on Fri #SXSW: Marissa M...   \n",
       "\n",
       "  emotion_in_tweet_is_directed_at  target  \\\n",
       "0                          iPhone       0   \n",
       "1              iPad or iPhone App       1   \n",
       "2                            iPad       1   \n",
       "3              iPad or iPhone App       0   \n",
       "4                          Google       1   \n",
       "\n",
       "                                     tweet_lowercase  \\\n",
       "0  .@wesley83 i have a 3g iphone. after 3 hrs twe...   \n",
       "1  @jessedee know about @fludapp ? awesome ipad/i...   \n",
       "2  @swonderlin can not wait for #ipad 2 also. the...   \n",
       "3  @sxsw i hope this year's festival isn't as cra...   \n",
       "4  @sxtxstate great stuff on fri #sxsw: marissa m...   \n",
       "\n",
       "                                      no_punctuation  \\\n",
       "0  wesley83 i have a 3g iphone after 3 hrs tweeti...   \n",
       "1  jessedee know about fludapp  awesome ipadiphon...   \n",
       "2  swonderlin can not wait for ipad 2 also they s...   \n",
       "3  sxsw i hope this years festival isnt as crashy...   \n",
       "4  sxtxstate great stuff on fri sxsw marissa maye...   \n",
       "\n",
       "                            tweets_without_stopwords  \n",
       "0  wesley83 3g iphone 3 hrs tweeting riseaustin d...  \n",
       "1  jessedee know fludapp awesome ipadiphone app y...  \n",
       "2              swonderlin wait ipad 2 also sale sxsw  \n",
       "3  sxsw hope years festival isnt crashy years iph...  \n",
       "4  sxtxstate great stuff fri sxsw marissa mayer g...  "
      ]
     },
     "execution_count": 87,
     "metadata": {},
     "output_type": "execute_result"
    }
   ],
   "source": [
    "df.head()"
   ]
  },
  {
   "cell_type": "markdown",
   "id": "19103d5a",
   "metadata": {},
   "source": [
    "#### Train test split"
   ]
  },
  {
   "cell_type": "code",
   "execution_count": 88,
   "id": "28767459",
   "metadata": {},
   "outputs": [],
   "source": [
    "# train test split \n",
    "\n",
    "X = df['tweets_without_stopwords']\n",
    "y = df['target']\n",
    "\n",
    "X_train, X_test, y_train, y_test = train_test_split(X, y, random_state=23)"
   ]
  },
  {
   "cell_type": "markdown",
   "id": "6578e094",
   "metadata": {},
   "source": [
    "#### Bag of words"
   ]
  },
  {
   "cell_type": "code",
   "execution_count": 89,
   "id": "2d048481",
   "metadata": {},
   "outputs": [],
   "source": [
    "# bag of words \n",
    "\n",
    "vectorizer = CountVectorizer()\n",
    "X_train_bow = vectorizer.fit_transform(X_train)\n",
    "X_test_bow = vectorizer.transform(X_test)"
   ]
  },
  {
   "cell_type": "code",
   "execution_count": 90,
   "id": "d96c7ad9",
   "metadata": {},
   "outputs": [
    {
     "data": {
      "text/plain": [
       "LogisticRegression()"
      ]
     },
     "execution_count": 90,
     "metadata": {},
     "output_type": "execute_result"
    }
   ],
   "source": [
    "lr = LogisticRegression()\n",
    "lr.fit(X_train_bow, y_train)"
   ]
  },
  {
   "cell_type": "code",
   "execution_count": 91,
   "id": "e88d7069",
   "metadata": {},
   "outputs": [
    {
     "data": {
      "text/plain": [
       "0.9871908127208481"
      ]
     },
     "execution_count": 91,
     "metadata": {},
     "output_type": "execute_result"
    }
   ],
   "source": [
    "# training f1 score \n",
    "f1_score(y_train, lr.predict(X_train_bow))"
   ]
  },
  {
   "cell_type": "code",
   "execution_count": 92,
   "id": "f4aa3b97",
   "metadata": {},
   "outputs": [
    {
     "data": {
      "text/plain": [
       "0.9241645244215938"
      ]
     },
     "execution_count": 92,
     "metadata": {},
     "output_type": "execute_result"
    }
   ],
   "source": [
    "# testing f1 score\n",
    "f1_score(y_test, lr.predict(X_test_bow))"
   ]
  },
  {
   "cell_type": "code",
   "execution_count": 93,
   "id": "1401d3c8",
   "metadata": {},
   "outputs": [
    {
     "data": {
      "text/plain": [
       "1.0"
      ]
     },
     "execution_count": 93,
     "metadata": {},
     "output_type": "execute_result"
    }
   ],
   "source": [
    "dt = DecisionTreeClassifier()\n",
    "dt.fit(X_train_bow, y_train)\n",
    "\n",
    "# training accuracy \n",
    "f1_score(y_train, dt.predict(X_train_bow))"
   ]
  },
  {
   "cell_type": "code",
   "execution_count": 94,
   "id": "13feac3a",
   "metadata": {},
   "outputs": [
    {
     "data": {
      "text/plain": [
       "0.9013157894736843"
      ]
     },
     "execution_count": 94,
     "metadata": {},
     "output_type": "execute_result"
    }
   ],
   "source": [
    "# testing accuracy \n",
    "f1_score(y_test, dt.predict(X_test_bow))"
   ]
  },
  {
   "cell_type": "code",
   "execution_count": 95,
   "id": "d9ca51a4",
   "metadata": {},
   "outputs": [
    {
     "data": {
      "text/plain": [
       "0.987431091510474"
      ]
     },
     "execution_count": 95,
     "metadata": {},
     "output_type": "execute_result"
    }
   ],
   "source": [
    "dt = DecisionTreeClassifier(max_depth = 70)\n",
    "dt.fit(X_train_bow, y_train)\n",
    "\n",
    "# training accuracy \n",
    "f1_score(y_train, dt.predict(X_train_bow))"
   ]
  },
  {
   "cell_type": "code",
   "execution_count": 96,
   "id": "ef71f66f",
   "metadata": {},
   "outputs": [
    {
     "data": {
      "text/plain": [
       "0.9074315514993482"
      ]
     },
     "execution_count": 96,
     "metadata": {},
     "output_type": "execute_result"
    }
   ],
   "source": [
    "# testing accuracy \n",
    "f1_score(y_test, dt.predict(X_test_bow))"
   ]
  },
  {
   "cell_type": "code",
   "execution_count": 97,
   "id": "692d9331",
   "metadata": {},
   "outputs": [
    {
     "data": {
      "text/plain": [
       "1.0"
      ]
     },
     "execution_count": 97,
     "metadata": {},
     "output_type": "execute_result"
    }
   ],
   "source": [
    "rf = RandomForestClassifier()\n",
    "\n",
    "rf.fit(X_train_bow, y_train)\n",
    "\n",
    "# training accuracy \n",
    "f1_score(y_train, rf.predict(X_train_bow))"
   ]
  },
  {
   "cell_type": "code",
   "execution_count": 98,
   "id": "3a5d1e09",
   "metadata": {},
   "outputs": [
    {
     "data": {
      "text/plain": [
       "0.9292035398230087"
      ]
     },
     "execution_count": 98,
     "metadata": {},
     "output_type": "execute_result"
    }
   ],
   "source": [
    "# testing accuracy \n",
    "f1_score(y_test, rf.predict(X_test_bow))"
   ]
  },
  {
   "cell_type": "code",
   "execution_count": 99,
   "id": "642179ed",
   "metadata": {},
   "outputs": [
    {
     "name": "stdout",
     "output_type": "stream",
     "text": [
      "0.9378010471204188\n",
      "0.9156327543424317\n"
     ]
    }
   ],
   "source": [
    "rf = RandomForestClassifier(max_depth=50)\n",
    "\n",
    "rf.fit(X_train_bow, y_train)\n",
    "\n",
    "# training accuracy \n",
    "print(f1_score(y_train, rf.predict(X_train_bow)))\n",
    "# testing accuracy\n",
    "print(f1_score(y_test, rf.predict(X_test_bow)))"
   ]
  },
  {
   "cell_type": "markdown",
   "id": "f6c8df7c",
   "metadata": {},
   "source": [
    "### Try models with balanced class weight "
   ]
  },
  {
   "cell_type": "code",
   "execution_count": 100,
   "id": "8b8d235c",
   "metadata": {},
   "outputs": [
    {
     "data": {
      "text/plain": [
       "LogisticRegression(class_weight='balanced')"
      ]
     },
     "execution_count": 100,
     "metadata": {},
     "output_type": "execute_result"
    }
   ],
   "source": [
    "lr_cw = LogisticRegression(class_weight='balanced')\n",
    "lr_cw.fit(X_train_bow, y_train)"
   ]
  },
  {
   "cell_type": "code",
   "execution_count": 101,
   "id": "1ce6bb6f",
   "metadata": {},
   "outputs": [
    {
     "data": {
      "text/plain": [
       "0.9934816812766915"
      ]
     },
     "execution_count": 101,
     "metadata": {},
     "output_type": "execute_result"
    }
   ],
   "source": [
    "# training f1 score\n",
    "f1_score(y_train, lr_cw.predict(X_train_bow))\n"
   ]
  },
  {
   "cell_type": "code",
   "execution_count": 102,
   "id": "d97fc159",
   "metadata": {},
   "outputs": [
    {
     "data": {
      "text/plain": [
       "0.9069925322471146"
      ]
     },
     "execution_count": 102,
     "metadata": {},
     "output_type": "execute_result"
    }
   ],
   "source": [
    "f1_score(y_test, lr_cw.predict(X_test_bow))"
   ]
  },
  {
   "cell_type": "code",
   "execution_count": 103,
   "id": "4f57d010",
   "metadata": {},
   "outputs": [],
   "source": [
    "## decision tree, random forest (class_weight=\"balanced\")"
   ]
  },
  {
   "cell_type": "code",
   "execution_count": 104,
   "id": "4ef07e67",
   "metadata": {},
   "outputs": [
    {
     "data": {
      "text/plain": [
       "1.0"
      ]
     },
     "execution_count": 104,
     "metadata": {},
     "output_type": "execute_result"
    }
   ],
   "source": [
    "# decision tree classifier, class_weight(\"balanced\")\n",
    "dt = DecisionTreeClassifier(class_weight=\"balanced\")\n",
    "dt.fit(X_train_bow, y_train)\n",
    "\n",
    "# training accuracy \n",
    "f1_score(y_train, dt.predict(X_train_bow))"
   ]
  },
  {
   "cell_type": "code",
   "execution_count": 105,
   "id": "3f8f41f0",
   "metadata": {},
   "outputs": [
    {
     "data": {
      "text/plain": [
       "0.8688981868898188"
      ]
     },
     "execution_count": 105,
     "metadata": {},
     "output_type": "execute_result"
    }
   ],
   "source": [
    "# testing accuracy \n",
    "f1_score(y_test, dt.predict(X_test_bow))"
   ]
  },
  {
   "cell_type": "code",
   "execution_count": 106,
   "id": "6df9be24",
   "metadata": {},
   "outputs": [
    {
     "data": {
      "text/plain": [
       "1.0"
      ]
     },
     "execution_count": 106,
     "metadata": {},
     "output_type": "execute_result"
    }
   ],
   "source": [
    "# random forest classifier, class_weight(\"balanced\")\n",
    "rf = RandomForestClassifier(class_weight=\"balanced\")\n",
    "\n",
    "rf.fit(X_train_bow, y_train)\n",
    "\n",
    "# training accuracy \n",
    "f1_score(y_train, rf.predict(X_train_bow))"
   ]
  },
  {
   "cell_type": "code",
   "execution_count": 107,
   "id": "77171bdb",
   "metadata": {},
   "outputs": [
    {
     "data": {
      "text/plain": [
       "0.923659305993691"
      ]
     },
     "execution_count": 107,
     "metadata": {},
     "output_type": "execute_result"
    }
   ],
   "source": [
    "f1_score(y_test, rf.predict(X_test_bow))"
   ]
  },
  {
   "cell_type": "markdown",
   "id": "bfa90584",
   "metadata": {},
   "source": [
    "#### TFIDF"
   ]
  },
  {
   "cell_type": "code",
   "execution_count": 108,
   "id": "8a347358",
   "metadata": {},
   "outputs": [],
   "source": [
    "# tfidf \n",
    "\n",
    "tfidf_vectorizer = TfidfVectorizer()\n",
    "X_train_tf = tfidf_vectorizer.fit_transform(X_train)\n",
    "X_test_tf = tfidf_vectorizer.transform(X_test)"
   ]
  },
  {
   "cell_type": "code",
   "execution_count": 109,
   "id": "350f4485",
   "metadata": {},
   "outputs": [
    {
     "name": "stdout",
     "output_type": "stream",
     "text": [
      "training score\n",
      "0.8628335212326194\n",
      "test score\n",
      "0.8432919954904171\n"
     ]
    }
   ],
   "source": [
    "lr = LogisticRegression()\n",
    "lr.fit(X_train_tf, y_train)\n",
    "\n",
    "print(f\"training score\")\n",
    "print(lr.score(X_train_tf, y_train))\n",
    "print(f\"test score\")\n",
    "print(lr.score(X_test_tf, y_test))"
   ]
  },
  {
   "cell_type": "code",
   "execution_count": 110,
   "id": "442b3e29",
   "metadata": {},
   "outputs": [
    {
     "data": {
      "text/plain": [
       "0.8432919954904171"
      ]
     },
     "execution_count": 110,
     "metadata": {},
     "output_type": "execute_result"
    }
   ],
   "source": [
    "lr.score(X_test_tf, y_test)"
   ]
  },
  {
   "cell_type": "code",
   "execution_count": 111,
   "id": "baad6a1b",
   "metadata": {},
   "outputs": [
    {
     "name": "stdout",
     "output_type": "stream",
     "text": [
      "training score\n",
      "0.9928598271326569\n",
      "test score\n",
      "0.8162344983089064\n"
     ]
    }
   ],
   "source": [
    "dt = DecisionTreeClassifier(max_depth=75)\n",
    "dt.fit(X_train_tf, y_train)\n",
    "\n",
    "# training accuracy \n",
    "dt.score(X_train_tf, y_train)\n",
    "\n",
    "\n",
    "print(f\"training score\")\n",
    "print(dt.score(X_train_tf, y_train))\n",
    "print(f\"test score\")\n",
    "print(dt.score(X_test_tf, y_test))"
   ]
  },
  {
   "cell_type": "code",
   "execution_count": null,
   "id": "975f80c2",
   "metadata": {},
   "outputs": [],
   "source": []
  },
  {
   "cell_type": "code",
   "execution_count": 112,
   "id": "15f96ed0",
   "metadata": {},
   "outputs": [
    {
     "name": "stdout",
     "output_type": "stream",
     "text": [
      "0.8902668169860954\n",
      "0.8432919954904171\n"
     ]
    }
   ],
   "source": [
    "rf = RandomForestClassifier(max_depth=50)\n",
    "\n",
    "rf.fit(X_train_tf, y_train)\n",
    "\n",
    "# training accuracy \n",
    "print(rf.score(X_train_tf, y_train))\n",
    "# testing accuracy\n",
    "print(rf.score(X_test_tf, y_test))"
   ]
  },
  {
   "cell_type": "code",
   "execution_count": 113,
   "id": "784eee0d",
   "metadata": {},
   "outputs": [],
   "source": [
    "### lr, dt, rf class_weight=balanced on tfidf data"
   ]
  },
  {
   "cell_type": "code",
   "execution_count": 114,
   "id": "998793f1",
   "metadata": {},
   "outputs": [
    {
     "name": "stdout",
     "output_type": "stream",
     "text": [
      "training score\n",
      "0.9492671927846674\n",
      "test score\n",
      "0.8331454340473506\n"
     ]
    }
   ],
   "source": [
    "lr = LogisticRegression(class_weight=\"balanced\")\n",
    "lr.fit(X_train_tf, y_train)\n",
    "\n",
    "print(f\"training score\")\n",
    "print(lr.score(X_train_tf, y_train))\n",
    "print(f\"test score\")\n",
    "print(lr.score(X_test_tf, y_test))"
   ]
  },
  {
   "cell_type": "code",
   "execution_count": 115,
   "id": "e2e5229d",
   "metadata": {},
   "outputs": [
    {
     "name": "stdout",
     "output_type": "stream",
     "text": [
      "training score\n",
      "0.923337091319053\n",
      "test score\n",
      "0.7801578354002254\n"
     ]
    }
   ],
   "source": [
    "dt = DecisionTreeClassifier(max_depth=75, class_weight=\"balanced\")\n",
    "dt.fit(X_train_tf, y_train)\n",
    "\n",
    "# training accuracy \n",
    "dt.score(X_train_tf, y_train)\n",
    "\n",
    "\n",
    "print(f\"training score\")\n",
    "print(dt.score(X_train_tf, y_train))\n",
    "print(f\"test score\")\n",
    "print(dt.score(X_test_tf, y_test))"
   ]
  },
  {
   "cell_type": "code",
   "execution_count": 116,
   "id": "fe888eb2",
   "metadata": {},
   "outputs": [
    {
     "name": "stdout",
     "output_type": "stream",
     "text": [
      "training score\n",
      "0.9830890642615558\n",
      "test score\n",
      "0.8579481397970687\n"
     ]
    }
   ],
   "source": [
    "rf = RandomForestClassifier(max_depth=50, class_weight=\"balanced\")\n",
    "\n",
    "rf.fit(X_train_tf, y_train)\n",
    "\n",
    "print(f\"training score\")\n",
    "print(rf.score(X_train_tf, y_train))\n",
    "print(f\"test score\")\n",
    "print(rf.score(X_test_tf, y_test))"
   ]
  },
  {
   "cell_type": "code",
   "execution_count": null,
   "id": "4a4178ec",
   "metadata": {},
   "outputs": [],
   "source": []
  },
  {
   "cell_type": "code",
   "execution_count": 117,
   "id": "f4ea232e",
   "metadata": {},
   "outputs": [
    {
     "name": "stderr",
     "output_type": "stream",
     "text": [
      "C:\\Users\\Jeff\\anaconda3\\lib\\site-packages\\sklearn\\utils\\deprecation.py:87: FutureWarning: Function plot_confusion_matrix is deprecated; Function `plot_confusion_matrix` is deprecated in 1.0 and will be removed in 1.2. Use one of the class methods: ConfusionMatrixDisplay.from_predictions or ConfusionMatrixDisplay.from_estimator.\n",
      "  warnings.warn(msg, category=FutureWarning)\n"
     ]
    },
    {
     "data": {
      "text/plain": [
       "<sklearn.metrics._plot.confusion_matrix.ConfusionMatrixDisplay at 0x13d2cf4b940>"
      ]
     },
     "execution_count": 117,
     "metadata": {},
     "output_type": "execute_result"
    },
    {
     "data": {
      "image/png": "[encoded data removed]",
      "text/plain": [
       "<Figure size 432x288 with 2 Axes>"
      ]
     },
     "metadata": {
      "needs_background": "light"
     },
     "output_type": "display_data"
    }
   ],
   "source": [
    "plot_confusion_matrix(lr, X_test_tf, y_test)"
   ]
  },
  {
   "cell_type": "code",
   "execution_count": 118,
   "id": "3b54dd07",
   "metadata": {},
   "outputs": [],
   "source": [
    "# 1/ Use F1 score instead of accuracy for ALL THE MODELS. Harmonic mean of precision and recall\n",
    "# 2. For each model, try setting class weight (class_weight=\"balanced\")"
   ]
  },
  {
   "cell_type": "code",
   "execution_count": null,
   "id": "7f902858",
   "metadata": {},
   "outputs": [],
   "source": []
  }
 ],
 "metadata": {
  "kernelspec": {
   "display_name": "Python 3 (ipykernel)",
   "language": "python",
   "name": "python3"
  },
  "language_info": {
   "codemirror_mode": {
    "name": "ipython",
    "version": 3
   },
   "file_extension": ".py",
   "mimetype": "text/x-python",
   "name": "python",
   "nbconvert_exporter": "python",
   "pygments_lexer": "ipython3",
   "version": "3.9.12"
  }
 },
 "nbformat": 4,
 "nbformat_minor": 5
}
