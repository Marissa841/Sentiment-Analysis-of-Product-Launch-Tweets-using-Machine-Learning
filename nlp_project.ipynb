{
 "cells": [
  {
   "cell_type": "markdown",
   "id": "2715fa90",
   "metadata": {},
   "source": [
    "# Business Problem\n",
    "### This project determines which tweets can be correctly identified to contain  either positive sentiments (“Positive emotion”) or negative sentiments(“Negative emotion”) using a binary classifier. \n"
   ]
  },
  {
   "cell_type": "code",
   "execution_count": 1,
   "id": "de6414bb",
   "metadata": {},
   "outputs": [],
   "source": [
    "# imports\n",
    "\n",
    "import pandas as pd\n",
    "import numpy as np\n",
    "import matplotlib.pyplot as plt\n",
    "\n",
    "from sklearn.feature_extraction.text import CountVectorizer\n",
    "from sklearn.model_selection import train_test_split\n",
    "from sklearn.linear_model import LogisticRegression\n",
    "from sklearn.tree import DecisionTreeClassifier\n",
    "from sklearn.ensemble import RandomForestClassifier\n",
    "from sklearn.feature_extraction.text import TfidfVectorizer\n",
    "from sklearn.metrics import plot_confusion_matrix\n",
    "from sklearn.metrics import f1_score\n",
    "\n",
    "import string\n",
    "\n",
    "from nltk.corpus import stopwords\n",
    "stop = stopwords.words('english')"
   ]
  },
  {
   "cell_type": "markdown",
   "id": "53b07662",
   "metadata": {},
   "source": [
    "# 1. Obtain"
   ]
  },
  {
   "cell_type": "code",
   "execution_count": 2,
   "id": "442986e0",
   "metadata": {},
   "outputs": [
    {
     "data": {
      "text/html": [
       "<div>\n",
       "<style scoped>\n",
       "    .dataframe tbody tr th:only-of-type {\n",
       "        vertical-align: middle;\n",
       "    }\n",
       "\n",
       "    .dataframe tbody tr th {\n",
       "        vertical-align: top;\n",
       "    }\n",
       "\n",
       "    .dataframe thead th {\n",
       "        text-align: right;\n",
       "    }\n",
       "</style>\n",
       "<table border=\"1\" class=\"dataframe\">\n",
       "  <thead>\n",
       "    <tr style=\"text-align: right;\">\n",
       "      <th></th>\n",
       "      <th>tweet_text</th>\n",
       "      <th>emotion_in_tweet_is_directed_at</th>\n",
       "      <th>is_there_an_emotion_directed_at_a_brand_or_product</th>\n",
       "    </tr>\n",
       "  </thead>\n",
       "  <tbody>\n",
       "    <tr>\n",
       "      <th>0</th>\n",
       "      <td>.@wesley83 I have a 3G iPhone. After 3 hrs twe...</td>\n",
       "      <td>iPhone</td>\n",
       "      <td>Negative emotion</td>\n",
       "    </tr>\n",
       "    <tr>\n",
       "      <th>1</th>\n",
       "      <td>@jessedee Know about @fludapp ? Awesome iPad/i...</td>\n",
       "      <td>iPad or iPhone App</td>\n",
       "      <td>Positive emotion</td>\n",
       "    </tr>\n",
       "    <tr>\n",
       "      <th>2</th>\n",
       "      <td>@swonderlin Can not wait for #iPad 2 also. The...</td>\n",
       "      <td>iPad</td>\n",
       "      <td>Positive emotion</td>\n",
       "    </tr>\n",
       "    <tr>\n",
       "      <th>3</th>\n",
       "      <td>@sxsw I hope this year's festival isn't as cra...</td>\n",
       "      <td>iPad or iPhone App</td>\n",
       "      <td>Negative emotion</td>\n",
       "    </tr>\n",
       "    <tr>\n",
       "      <th>4</th>\n",
       "      <td>@sxtxstate great stuff on Fri #SXSW: Marissa M...</td>\n",
       "      <td>Google</td>\n",
       "      <td>Positive emotion</td>\n",
       "    </tr>\n",
       "  </tbody>\n",
       "</table>\n",
       "</div>"
      ],
      "text/plain": [
       "                                          tweet_text  \\\n",
       "0  .@wesley83 I have a 3G iPhone. After 3 hrs twe...   \n",
       "1  @jessedee Know about @fludapp ? Awesome iPad/i...   \n",
       "2  @swonderlin Can not wait for #iPad 2 also. The...   \n",
       "3  @sxsw I hope this year's festival isn't as cra...   \n",
       "4  @sxtxstate great stuff on Fri #SXSW: Marissa M...   \n",
       "\n",
       "  emotion_in_tweet_is_directed_at  \\\n",
       "0                          iPhone   \n",
       "1              iPad or iPhone App   \n",
       "2                            iPad   \n",
       "3              iPad or iPhone App   \n",
       "4                          Google   \n",
       "\n",
       "  is_there_an_emotion_directed_at_a_brand_or_product  \n",
       "0                                   Negative emotion  \n",
       "1                                   Positive emotion  \n",
       "2                                   Positive emotion  \n",
       "3                                   Negative emotion  \n",
       "4                                   Positive emotion  "
      ]
     },
     "execution_count": 2,
     "metadata": {},
     "output_type": "execute_result"
    }
   ],
   "source": [
    "# load in the dataset\n",
    "df = pd.read_csv(\"emoting_tweets.csv\", encoding_errors=\"ignore\")\n",
    "df.head()"
   ]
  },
  {
   "cell_type": "markdown",
   "id": "b2bf5198",
   "metadata": {},
   "source": [
    "# 2. Scrub + Explore"
   ]
  },
  {
   "cell_type": "code",
   "execution_count": 3,
   "id": "b326f4bb",
   "metadata": {},
   "outputs": [
    {
     "data": {
      "text/html": [
       "<div>\n",
       "<style scoped>\n",
       "    .dataframe tbody tr th:only-of-type {\n",
       "        vertical-align: middle;\n",
       "    }\n",
       "\n",
       "    .dataframe tbody tr th {\n",
       "        vertical-align: top;\n",
       "    }\n",
       "\n",
       "    .dataframe thead th {\n",
       "        text-align: right;\n",
       "    }\n",
       "</style>\n",
       "<table border=\"1\" class=\"dataframe\">\n",
       "  <thead>\n",
       "    <tr style=\"text-align: right;\">\n",
       "      <th></th>\n",
       "      <th>tweet_text</th>\n",
       "      <th>emotion_in_tweet_is_directed_at</th>\n",
       "      <th>is_there_an_emotion_directed_at_a_brand_or_product</th>\n",
       "    </tr>\n",
       "  </thead>\n",
       "  <tbody>\n",
       "    <tr>\n",
       "      <th>count</th>\n",
       "      <td>9092</td>\n",
       "      <td>3291</td>\n",
       "      <td>9093</td>\n",
       "    </tr>\n",
       "    <tr>\n",
       "      <th>unique</th>\n",
       "      <td>9063</td>\n",
       "      <td>9</td>\n",
       "      <td>4</td>\n",
       "    </tr>\n",
       "    <tr>\n",
       "      <th>top</th>\n",
       "      <td>RT @mention Marissa Mayer: Google Will Connect...</td>\n",
       "      <td>iPad</td>\n",
       "      <td>No emotion toward brand or product</td>\n",
       "    </tr>\n",
       "    <tr>\n",
       "      <th>freq</th>\n",
       "      <td>5</td>\n",
       "      <td>946</td>\n",
       "      <td>5389</td>\n",
       "    </tr>\n",
       "  </tbody>\n",
       "</table>\n",
       "</div>"
      ],
      "text/plain": [
       "                                               tweet_text  \\\n",
       "count                                                9092   \n",
       "unique                                               9063   \n",
       "top     RT @mention Marissa Mayer: Google Will Connect...   \n",
       "freq                                                    5   \n",
       "\n",
       "       emotion_in_tweet_is_directed_at  \\\n",
       "count                             3291   \n",
       "unique                               9   \n",
       "top                               iPad   \n",
       "freq                               946   \n",
       "\n",
       "       is_there_an_emotion_directed_at_a_brand_or_product  \n",
       "count                                                9093  \n",
       "unique                                                  4  \n",
       "top                    No emotion toward brand or product  \n",
       "freq                                                 5389  "
      ]
     },
     "execution_count": 3,
     "metadata": {},
     "output_type": "execute_result"
    }
   ],
   "source": [
    "df.describe()"
   ]
  },
  {
   "cell_type": "code",
   "execution_count": 4,
   "id": "04577423",
   "metadata": {},
   "outputs": [
    {
     "data": {
      "text/plain": [
       "(9093, 3)"
      ]
     },
     "execution_count": 4,
     "metadata": {},
     "output_type": "execute_result"
    }
   ],
   "source": [
    "df.shape"
   ]
  },
  {
   "cell_type": "code",
   "execution_count": 5,
   "id": "20a95d00",
   "metadata": {},
   "outputs": [],
   "source": [
    "# rename target column\n",
    "df[\"target\"] = df[\"is_there_an_emotion_directed_at_a_brand_or_product\"]"
   ]
  },
  {
   "cell_type": "code",
   "execution_count": 6,
   "id": "fc1c72d3",
   "metadata": {},
   "outputs": [],
   "source": [
    "# drop former target column to clean up dataset\n",
    "df.drop(columns=[\"is_there_an_emotion_directed_at_a_brand_or_product\"], inplace=True)"
   ]
  },
  {
   "cell_type": "code",
   "execution_count": 7,
   "id": "bbd245d1",
   "metadata": {},
   "outputs": [
    {
     "data": {
      "text/plain": [
       "No emotion toward brand or product    0.592654\n",
       "Positive emotion                      0.327505\n",
       "Negative emotion                      0.062686\n",
       "I can't tell                          0.017156\n",
       "Name: target, dtype: float64"
      ]
     },
     "execution_count": 7,
     "metadata": {},
     "output_type": "execute_result"
    }
   ],
   "source": [
    "# view target column distribution \n",
    "df[\"target\"].value_counts(normalize=True)"
   ]
  },
  {
   "cell_type": "code",
   "execution_count": 8,
   "id": "7768b335",
   "metadata": {},
   "outputs": [],
   "source": [
    "# drop two unnecessary columns\n",
    "df = df[(df[\"target\"] != \"No emotion toward brand or product\") & (df[\"target\"] != \"I can't tell\")]"
   ]
  },
  {
   "cell_type": "code",
   "execution_count": 9,
   "id": "d43a77cc",
   "metadata": {},
   "outputs": [
    {
     "data": {
      "text/plain": [
       "Positive emotion    0.839346\n",
       "Negative emotion    0.160654\n",
       "Name: target, dtype: float64"
      ]
     },
     "execution_count": 9,
     "metadata": {},
     "output_type": "execute_result"
    }
   ],
   "source": [
    "# view target column distribution\n",
    "df[\"target\"].value_counts(normalize=True)"
   ]
  },
  {
   "cell_type": "code",
   "execution_count": 10,
   "id": "1d648a04",
   "metadata": {},
   "outputs": [
    {
     "data": {
      "image/png": "[encoded data removed]",
      "text/plain": [
       "<Figure size 432x288 with 1 Axes>"
      ]
     },
     "metadata": {
      "needs_background": "light"
     },
     "output_type": "display_data"
    }
   ],
   "source": [
    "# View distribution of the \"status_group\" values\n",
    "df['target'].value_counts().plot(kind='bar', color = \"c\")\n",
    "      \n",
    "# giving title to the plot\n",
    "plt.title(\"Distribution of tweet sentiment\")\n",
    "      \n",
    "# giving X and Y labels\n",
    "plt.xlabel(\"tweets\")\n",
    "plt.xticks(rotation = 0)\n",
    "plt.ylabel(\"# of tweets\")\n",
    "\n",
    "plt.show()"
   ]
  },
  {
   "cell_type": "code",
   "execution_count": 11,
   "id": "812ed486",
   "metadata": {},
   "outputs": [
    {
     "data": {
      "text/plain": [
       "Positive emotion    2978\n",
       "Negative emotion     570\n",
       "Name: target, dtype: int64"
      ]
     },
     "execution_count": 11,
     "metadata": {},
     "output_type": "execute_result"
    }
   ],
   "source": [
    "# view target column counts\n",
    "df[\"target\"].value_counts()"
   ]
  },
  {
   "cell_type": "code",
   "execution_count": 12,
   "id": "4ae26766",
   "metadata": {},
   "outputs": [],
   "source": [
    "# change \"Positive emotion\" to equal 1 and \"Negative emotion\" to equal 0\n",
    "df[\"target\"] = np.where(df['target'] == \"Positive emotion\", 1, 0)"
   ]
  },
  {
   "cell_type": "code",
   "execution_count": 13,
   "id": "2c41c1bd",
   "metadata": {},
   "outputs": [
    {
     "data": {
      "text/plain": [
       "1    2978\n",
       "0     570\n",
       "Name: target, dtype: int64"
      ]
     },
     "execution_count": 13,
     "metadata": {},
     "output_type": "execute_result"
    }
   ],
   "source": [
    "# confirm change\n",
    "df[\"target\"].value_counts()"
   ]
  },
  {
   "cell_type": "code",
   "execution_count": 14,
   "id": "e00c2d68",
   "metadata": {},
   "outputs": [],
   "source": [
    "# pd.get_dummies(df[\"target\"], drop_first=True)"
   ]
  },
  {
   "cell_type": "code",
   "execution_count": 15,
   "id": "36060f0e",
   "metadata": {},
   "outputs": [],
   "source": [
    "#df = pd.concat([df, pd.get_dummies(df['target'], drop_first=True)], axis=1)\n",
    "#df.head()"
   ]
  },
  {
   "cell_type": "code",
   "execution_count": 16,
   "id": "e69b26d5",
   "metadata": {},
   "outputs": [],
   "source": [
    "#df[\"tweet_text\"].astype(str)"
   ]
  },
  {
   "cell_type": "code",
   "execution_count": 17,
   "id": "58570a4a",
   "metadata": {},
   "outputs": [],
   "source": [
    "#df[\"tweet_text\"].dtypes"
   ]
  },
  {
   "cell_type": "code",
   "execution_count": 18,
   "id": "1a5b145d",
   "metadata": {},
   "outputs": [
    {
     "data": {
      "text/html": [
       "<div>\n",
       "<style scoped>\n",
       "    .dataframe tbody tr th:only-of-type {\n",
       "        vertical-align: middle;\n",
       "    }\n",
       "\n",
       "    .dataframe tbody tr th {\n",
       "        vertical-align: top;\n",
       "    }\n",
       "\n",
       "    .dataframe thead th {\n",
       "        text-align: right;\n",
       "    }\n",
       "</style>\n",
       "<table border=\"1\" class=\"dataframe\">\n",
       "  <thead>\n",
       "    <tr style=\"text-align: right;\">\n",
       "      <th></th>\n",
       "      <th>tweet_text</th>\n",
       "      <th>emotion_in_tweet_is_directed_at</th>\n",
       "      <th>target</th>\n",
       "      <th>tweet_lowercase</th>\n",
       "    </tr>\n",
       "  </thead>\n",
       "  <tbody>\n",
       "    <tr>\n",
       "      <th>0</th>\n",
       "      <td>.@wesley83 I have a 3G iPhone. After 3 hrs twe...</td>\n",
       "      <td>iPhone</td>\n",
       "      <td>0</td>\n",
       "      <td>.@wesley83 i have a 3g iphone. after 3 hrs twe...</td>\n",
       "    </tr>\n",
       "    <tr>\n",
       "      <th>1</th>\n",
       "      <td>@jessedee Know about @fludapp ? Awesome iPad/i...</td>\n",
       "      <td>iPad or iPhone App</td>\n",
       "      <td>1</td>\n",
       "      <td>@jessedee know about @fludapp ? awesome ipad/i...</td>\n",
       "    </tr>\n",
       "    <tr>\n",
       "      <th>2</th>\n",
       "      <td>@swonderlin Can not wait for #iPad 2 also. The...</td>\n",
       "      <td>iPad</td>\n",
       "      <td>1</td>\n",
       "      <td>@swonderlin can not wait for #ipad 2 also. the...</td>\n",
       "    </tr>\n",
       "    <tr>\n",
       "      <th>3</th>\n",
       "      <td>@sxsw I hope this year's festival isn't as cra...</td>\n",
       "      <td>iPad or iPhone App</td>\n",
       "      <td>0</td>\n",
       "      <td>@sxsw i hope this year's festival isn't as cra...</td>\n",
       "    </tr>\n",
       "    <tr>\n",
       "      <th>4</th>\n",
       "      <td>@sxtxstate great stuff on Fri #SXSW: Marissa M...</td>\n",
       "      <td>Google</td>\n",
       "      <td>1</td>\n",
       "      <td>@sxtxstate great stuff on fri #sxsw: marissa m...</td>\n",
       "    </tr>\n",
       "  </tbody>\n",
       "</table>\n",
       "</div>"
      ],
      "text/plain": [
       "                                          tweet_text  \\\n",
       "0  .@wesley83 I have a 3G iPhone. After 3 hrs twe...   \n",
       "1  @jessedee Know about @fludapp ? Awesome iPad/i...   \n",
       "2  @swonderlin Can not wait for #iPad 2 also. The...   \n",
       "3  @sxsw I hope this year's festival isn't as cra...   \n",
       "4  @sxtxstate great stuff on Fri #SXSW: Marissa M...   \n",
       "\n",
       "  emotion_in_tweet_is_directed_at  target  \\\n",
       "0                          iPhone       0   \n",
       "1              iPad or iPhone App       1   \n",
       "2                            iPad       1   \n",
       "3              iPad or iPhone App       0   \n",
       "4                          Google       1   \n",
       "\n",
       "                                     tweet_lowercase  \n",
       "0  .@wesley83 i have a 3g iphone. after 3 hrs twe...  \n",
       "1  @jessedee know about @fludapp ? awesome ipad/i...  \n",
       "2  @swonderlin can not wait for #ipad 2 also. the...  \n",
       "3  @sxsw i hope this year's festival isn't as cra...  \n",
       "4  @sxtxstate great stuff on fri #sxsw: marissa m...  "
      ]
     },
     "execution_count": 18,
     "metadata": {},
     "output_type": "execute_result"
    }
   ],
   "source": [
    "# set text to lowercase\n",
    "df['tweet_lowercase'] = df['tweet_text'].map(lambda x: str(x).lower())\n",
    "df.head()"
   ]
  },
  {
   "cell_type": "code",
   "execution_count": 19,
   "id": "64f73640",
   "metadata": {},
   "outputs": [],
   "source": [
    "#string.punctuation"
   ]
  },
  {
   "cell_type": "code",
   "execution_count": 20,
   "id": "0814848b",
   "metadata": {},
   "outputs": [],
   "source": [
    "# remove punctuation\n",
    "no_punctuation = []\n",
    "for s in df['tweet_lowercase']:\n",
    "    for p in string.punctuation:\n",
    "        s = s.replace(p, '')\n",
    "    no_punctuation.append(s)"
   ]
  },
  {
   "cell_type": "code",
   "execution_count": 21,
   "id": "3c42fa7e",
   "metadata": {},
   "outputs": [],
   "source": [
    "# add no_punction column to the dataframe\n",
    "df['no_punctuation'] = no_punctuation"
   ]
  },
  {
   "cell_type": "code",
   "execution_count": 22,
   "id": "7b5bb045",
   "metadata": {},
   "outputs": [
    {
     "data": {
      "text/html": [
       "<div>\n",
       "<style scoped>\n",
       "    .dataframe tbody tr th:only-of-type {\n",
       "        vertical-align: middle;\n",
       "    }\n",
       "\n",
       "    .dataframe tbody tr th {\n",
       "        vertical-align: top;\n",
       "    }\n",
       "\n",
       "    .dataframe thead th {\n",
       "        text-align: right;\n",
       "    }\n",
       "</style>\n",
       "<table border=\"1\" class=\"dataframe\">\n",
       "  <thead>\n",
       "    <tr style=\"text-align: right;\">\n",
       "      <th></th>\n",
       "      <th>tweet_text</th>\n",
       "      <th>emotion_in_tweet_is_directed_at</th>\n",
       "      <th>target</th>\n",
       "      <th>tweet_lowercase</th>\n",
       "      <th>no_punctuation</th>\n",
       "    </tr>\n",
       "  </thead>\n",
       "  <tbody>\n",
       "    <tr>\n",
       "      <th>0</th>\n",
       "      <td>.@wesley83 I have a 3G iPhone. After 3 hrs twe...</td>\n",
       "      <td>iPhone</td>\n",
       "      <td>0</td>\n",
       "      <td>.@wesley83 i have a 3g iphone. after 3 hrs twe...</td>\n",
       "      <td>wesley83 i have a 3g iphone after 3 hrs tweeti...</td>\n",
       "    </tr>\n",
       "    <tr>\n",
       "      <th>1</th>\n",
       "      <td>@jessedee Know about @fludapp ? Awesome iPad/i...</td>\n",
       "      <td>iPad or iPhone App</td>\n",
       "      <td>1</td>\n",
       "      <td>@jessedee know about @fludapp ? awesome ipad/i...</td>\n",
       "      <td>jessedee know about fludapp  awesome ipadiphon...</td>\n",
       "    </tr>\n",
       "    <tr>\n",
       "      <th>2</th>\n",
       "      <td>@swonderlin Can not wait for #iPad 2 also. The...</td>\n",
       "      <td>iPad</td>\n",
       "      <td>1</td>\n",
       "      <td>@swonderlin can not wait for #ipad 2 also. the...</td>\n",
       "      <td>swonderlin can not wait for ipad 2 also they s...</td>\n",
       "    </tr>\n",
       "    <tr>\n",
       "      <th>3</th>\n",
       "      <td>@sxsw I hope this year's festival isn't as cra...</td>\n",
       "      <td>iPad or iPhone App</td>\n",
       "      <td>0</td>\n",
       "      <td>@sxsw i hope this year's festival isn't as cra...</td>\n",
       "      <td>sxsw i hope this years festival isnt as crashy...</td>\n",
       "    </tr>\n",
       "    <tr>\n",
       "      <th>4</th>\n",
       "      <td>@sxtxstate great stuff on Fri #SXSW: Marissa M...</td>\n",
       "      <td>Google</td>\n",
       "      <td>1</td>\n",
       "      <td>@sxtxstate great stuff on fri #sxsw: marissa m...</td>\n",
       "      <td>sxtxstate great stuff on fri sxsw marissa maye...</td>\n",
       "    </tr>\n",
       "  </tbody>\n",
       "</table>\n",
       "</div>"
      ],
      "text/plain": [
       "                                          tweet_text  \\\n",
       "0  .@wesley83 I have a 3G iPhone. After 3 hrs twe...   \n",
       "1  @jessedee Know about @fludapp ? Awesome iPad/i...   \n",
       "2  @swonderlin Can not wait for #iPad 2 also. The...   \n",
       "3  @sxsw I hope this year's festival isn't as cra...   \n",
       "4  @sxtxstate great stuff on Fri #SXSW: Marissa M...   \n",
       "\n",
       "  emotion_in_tweet_is_directed_at  target  \\\n",
       "0                          iPhone       0   \n",
       "1              iPad or iPhone App       1   \n",
       "2                            iPad       1   \n",
       "3              iPad or iPhone App       0   \n",
       "4                          Google       1   \n",
       "\n",
       "                                     tweet_lowercase  \\\n",
       "0  .@wesley83 i have a 3g iphone. after 3 hrs twe...   \n",
       "1  @jessedee know about @fludapp ? awesome ipad/i...   \n",
       "2  @swonderlin can not wait for #ipad 2 also. the...   \n",
       "3  @sxsw i hope this year's festival isn't as cra...   \n",
       "4  @sxtxstate great stuff on fri #sxsw: marissa m...   \n",
       "\n",
       "                                      no_punctuation  \n",
       "0  wesley83 i have a 3g iphone after 3 hrs tweeti...  \n",
       "1  jessedee know about fludapp  awesome ipadiphon...  \n",
       "2  swonderlin can not wait for ipad 2 also they s...  \n",
       "3  sxsw i hope this years festival isnt as crashy...  \n",
       "4  sxtxstate great stuff on fri sxsw marissa maye...  "
      ]
     },
     "execution_count": 22,
     "metadata": {},
     "output_type": "execute_result"
    }
   ],
   "source": [
    "# view dataframe\n",
    "df.head()"
   ]
  },
  {
   "cell_type": "code",
   "execution_count": 23,
   "id": "383b4b9b",
   "metadata": {},
   "outputs": [],
   "source": [
    "# remove stop words\n",
    "df['tweets_without_stopwords'] = df['no_punctuation'].apply(\n",
    "    lambda x: ' '.join([word for word in x.split() if word not in (stop)]))"
   ]
  },
  {
   "cell_type": "code",
   "execution_count": 24,
   "id": "7f1ab054",
   "metadata": {},
   "outputs": [
    {
     "data": {
      "text/html": [
       "<div>\n",
       "<style scoped>\n",
       "    .dataframe tbody tr th:only-of-type {\n",
       "        vertical-align: middle;\n",
       "    }\n",
       "\n",
       "    .dataframe tbody tr th {\n",
       "        vertical-align: top;\n",
       "    }\n",
       "\n",
       "    .dataframe thead th {\n",
       "        text-align: right;\n",
       "    }\n",
       "</style>\n",
       "<table border=\"1\" class=\"dataframe\">\n",
       "  <thead>\n",
       "    <tr style=\"text-align: right;\">\n",
       "      <th></th>\n",
       "      <th>tweet_text</th>\n",
       "      <th>emotion_in_tweet_is_directed_at</th>\n",
       "      <th>target</th>\n",
       "      <th>tweet_lowercase</th>\n",
       "      <th>no_punctuation</th>\n",
       "      <th>tweets_without_stopwords</th>\n",
       "    </tr>\n",
       "  </thead>\n",
       "  <tbody>\n",
       "    <tr>\n",
       "      <th>0</th>\n",
       "      <td>.@wesley83 I have a 3G iPhone. After 3 hrs twe...</td>\n",
       "      <td>iPhone</td>\n",
       "      <td>0</td>\n",
       "      <td>.@wesley83 i have a 3g iphone. after 3 hrs twe...</td>\n",
       "      <td>wesley83 i have a 3g iphone after 3 hrs tweeti...</td>\n",
       "      <td>wesley83 3g iphone 3 hrs tweeting riseaustin d...</td>\n",
       "    </tr>\n",
       "    <tr>\n",
       "      <th>1</th>\n",
       "      <td>@jessedee Know about @fludapp ? Awesome iPad/i...</td>\n",
       "      <td>iPad or iPhone App</td>\n",
       "      <td>1</td>\n",
       "      <td>@jessedee know about @fludapp ? awesome ipad/i...</td>\n",
       "      <td>jessedee know about fludapp  awesome ipadiphon...</td>\n",
       "      <td>jessedee know fludapp awesome ipadiphone app y...</td>\n",
       "    </tr>\n",
       "    <tr>\n",
       "      <th>2</th>\n",
       "      <td>@swonderlin Can not wait for #iPad 2 also. The...</td>\n",
       "      <td>iPad</td>\n",
       "      <td>1</td>\n",
       "      <td>@swonderlin can not wait for #ipad 2 also. the...</td>\n",
       "      <td>swonderlin can not wait for ipad 2 also they s...</td>\n",
       "      <td>swonderlin wait ipad 2 also sale sxsw</td>\n",
       "    </tr>\n",
       "    <tr>\n",
       "      <th>3</th>\n",
       "      <td>@sxsw I hope this year's festival isn't as cra...</td>\n",
       "      <td>iPad or iPhone App</td>\n",
       "      <td>0</td>\n",
       "      <td>@sxsw i hope this year's festival isn't as cra...</td>\n",
       "      <td>sxsw i hope this years festival isnt as crashy...</td>\n",
       "      <td>sxsw hope years festival isnt crashy years iph...</td>\n",
       "    </tr>\n",
       "    <tr>\n",
       "      <th>4</th>\n",
       "      <td>@sxtxstate great stuff on Fri #SXSW: Marissa M...</td>\n",
       "      <td>Google</td>\n",
       "      <td>1</td>\n",
       "      <td>@sxtxstate great stuff on fri #sxsw: marissa m...</td>\n",
       "      <td>sxtxstate great stuff on fri sxsw marissa maye...</td>\n",
       "      <td>sxtxstate great stuff fri sxsw marissa mayer g...</td>\n",
       "    </tr>\n",
       "  </tbody>\n",
       "</table>\n",
       "</div>"
      ],
      "text/plain": [
       "                                          tweet_text  \\\n",
       "0  .@wesley83 I have a 3G iPhone. After 3 hrs twe...   \n",
       "1  @jessedee Know about @fludapp ? Awesome iPad/i...   \n",
       "2  @swonderlin Can not wait for #iPad 2 also. The...   \n",
       "3  @sxsw I hope this year's festival isn't as cra...   \n",
       "4  @sxtxstate great stuff on Fri #SXSW: Marissa M...   \n",
       "\n",
       "  emotion_in_tweet_is_directed_at  target  \\\n",
       "0                          iPhone       0   \n",
       "1              iPad or iPhone App       1   \n",
       "2                            iPad       1   \n",
       "3              iPad or iPhone App       0   \n",
       "4                          Google       1   \n",
       "\n",
       "                                     tweet_lowercase  \\\n",
       "0  .@wesley83 i have a 3g iphone. after 3 hrs twe...   \n",
       "1  @jessedee know about @fludapp ? awesome ipad/i...   \n",
       "2  @swonderlin can not wait for #ipad 2 also. the...   \n",
       "3  @sxsw i hope this year's festival isn't as cra...   \n",
       "4  @sxtxstate great stuff on fri #sxsw: marissa m...   \n",
       "\n",
       "                                      no_punctuation  \\\n",
       "0  wesley83 i have a 3g iphone after 3 hrs tweeti...   \n",
       "1  jessedee know about fludapp  awesome ipadiphon...   \n",
       "2  swonderlin can not wait for ipad 2 also they s...   \n",
       "3  sxsw i hope this years festival isnt as crashy...   \n",
       "4  sxtxstate great stuff on fri sxsw marissa maye...   \n",
       "\n",
       "                            tweets_without_stopwords  \n",
       "0  wesley83 3g iphone 3 hrs tweeting riseaustin d...  \n",
       "1  jessedee know fludapp awesome ipadiphone app y...  \n",
       "2              swonderlin wait ipad 2 also sale sxsw  \n",
       "3  sxsw hope years festival isnt crashy years iph...  \n",
       "4  sxtxstate great stuff fri sxsw marissa mayer g...  "
      ]
     },
     "execution_count": 24,
     "metadata": {},
     "output_type": "execute_result"
    }
   ],
   "source": [
    "# view dataframe\n",
    "df.head()"
   ]
  },
  {
   "cell_type": "code",
   "execution_count": 25,
   "id": "d035f7c6",
   "metadata": {},
   "outputs": [
    {
     "data": {
      "text/plain": [
       "sxsw             3655\n",
       "mention          2482\n",
       "link             1310\n",
       "ipad             1164\n",
       "rt               1059\n",
       "                 ... \n",
       "ahh                 1\n",
       "wonderful           1\n",
       "experimenting       1\n",
       "tinkering           1\n",
       "stabilizer          1\n",
       "Length: 6448, dtype: int64"
      ]
     },
     "execution_count": 25,
     "metadata": {},
     "output_type": "execute_result"
    }
   ],
   "source": [
    "# view count of most common words within tweets_without_stopwords\n",
    "df['tweets_without_stopwords'].str.split(expand=True).stack().value_counts()"
   ]
  },
  {
   "cell_type": "code",
   "execution_count": 26,
   "id": "8ca0f369",
   "metadata": {},
   "outputs": [
    {
     "data": {
      "image/png": "[encoded data removed]",
      "text/plain": [
       "<Figure size 432x288 with 1 Axes>"
      ]
     },
     "metadata": {},
     "output_type": "display_data"
    }
   ],
   "source": [
    "# most common words from \"Positive emotion\"\n",
    "with plt.style.context('fivethirtyeight'):\n",
    "    df[df['target'] == 1]['tweets_without_stopwords'].str.split(\n",
    "        expand=True).stack().value_counts().head(10).plot(kind='barh', color=\"c\")"
   ]
  },
  {
   "cell_type": "code",
   "execution_count": 27,
   "id": "fd489e2d",
   "metadata": {},
   "outputs": [
    {
     "data": {
      "image/png": "[encoded data removed]",
      "text/plain": [
       "<Figure size 432x288 with 1 Axes>"
      ]
     },
     "metadata": {},
     "output_type": "display_data"
    }
   ],
   "source": [
    "# most common words from \"Negative emotion\"\n",
    "with plt.style.context('fivethirtyeight'):\n",
    "    df[df['target'] == 0]['tweets_without_stopwords'].str.split(\n",
    "        expand=True).stack().value_counts().head(10).plot(kind='barh', color=\"c\")"
   ]
  },
  {
   "cell_type": "markdown",
   "id": "1b5c0355",
   "metadata": {},
   "source": [
    "# 4. Model"
   ]
  },
  {
   "cell_type": "markdown",
   "id": "19103d5a",
   "metadata": {},
   "source": [
    "#### Train test split"
   ]
  },
  {
   "cell_type": "code",
   "execution_count": 28,
   "id": "28767459",
   "metadata": {},
   "outputs": [],
   "source": [
    "# train test split \n",
    "X = df['tweets_without_stopwords']\n",
    "y = df['target']\n",
    "\n",
    "X_train, X_test, y_train, y_test = train_test_split(X, y, random_state=23)"
   ]
  },
  {
   "cell_type": "markdown",
   "id": "6578e094",
   "metadata": {},
   "source": [
    "#### Bag of words"
   ]
  },
  {
   "cell_type": "code",
   "execution_count": 29,
   "id": "2d048481",
   "metadata": {},
   "outputs": [],
   "source": [
    "# bag of words \n",
    "vectorizer = CountVectorizer()\n",
    "X_train_bow = vectorizer.fit_transform(X_train)\n",
    "X_test_bow = vectorizer.transform(X_test)"
   ]
  },
  {
   "cell_type": "code",
   "execution_count": 30,
   "id": "d96c7ad9",
   "metadata": {},
   "outputs": [
    {
     "data": {
      "text/plain": [
       "LogisticRegression()"
      ]
     },
     "execution_count": 30,
     "metadata": {},
     "output_type": "execute_result"
    }
   ],
   "source": [
    "lr = LogisticRegression()\n",
    "lr.fit(X_train_bow, y_train)"
   ]
  },
  {
   "cell_type": "code",
   "execution_count": 31,
   "id": "e88d7069",
   "metadata": {},
   "outputs": [
    {
     "data": {
      "text/plain": [
       "0.9871908127208481"
      ]
     },
     "execution_count": 31,
     "metadata": {},
     "output_type": "execute_result"
    }
   ],
   "source": [
    "# training f1 score \n",
    "f1_score(y_train, lr.predict(X_train_bow))"
   ]
  },
  {
   "cell_type": "code",
   "execution_count": 32,
   "id": "f4aa3b97",
   "metadata": {},
   "outputs": [
    {
     "data": {
      "text/plain": [
       "0.9241645244215938"
      ]
     },
     "execution_count": 32,
     "metadata": {},
     "output_type": "execute_result"
    }
   ],
   "source": [
    "# testing f1 score\n",
    "f1_score(y_test, lr.predict(X_test_bow))"
   ]
  },
  {
   "cell_type": "code",
   "execution_count": 33,
   "id": "1401d3c8",
   "metadata": {},
   "outputs": [
    {
     "data": {
      "text/plain": [
       "1.0"
      ]
     },
     "execution_count": 33,
     "metadata": {},
     "output_type": "execute_result"
    }
   ],
   "source": [
    "dt = DecisionTreeClassifier()\n",
    "dt.fit(X_train_bow, y_train)\n",
    "\n",
    "# training accuracy \n",
    "f1_score(y_train, dt.predict(X_train_bow))"
   ]
  },
  {
   "cell_type": "code",
   "execution_count": 34,
   "id": "13feac3a",
   "metadata": {},
   "outputs": [
    {
     "data": {
      "text/plain": [
       "0.902166776099803"
      ]
     },
     "execution_count": 34,
     "metadata": {},
     "output_type": "execute_result"
    }
   ],
   "source": [
    "# testing accuracy \n",
    "f1_score(y_test, dt.predict(X_test_bow))"
   ]
  },
  {
   "cell_type": "code",
   "execution_count": 35,
   "id": "d9ca51a4",
   "metadata": {},
   "outputs": [
    {
     "data": {
      "text/plain": [
       "0.9883028029132642"
      ]
     },
     "execution_count": 35,
     "metadata": {},
     "output_type": "execute_result"
    }
   ],
   "source": [
    "dt = DecisionTreeClassifier(max_depth = 70)\n",
    "dt.fit(X_train_bow, y_train)\n",
    "\n",
    "# training accuracy \n",
    "f1_score(y_train, dt.predict(X_train_bow))"
   ]
  },
  {
   "cell_type": "code",
   "execution_count": 36,
   "id": "ef71f66f",
   "metadata": {},
   "outputs": [
    {
     "data": {
      "text/plain": [
       "0.9079118028534372"
      ]
     },
     "execution_count": 36,
     "metadata": {},
     "output_type": "execute_result"
    }
   ],
   "source": [
    "# testing accuracy \n",
    "f1_score(y_test, dt.predict(X_test_bow))"
   ]
  },
  {
   "cell_type": "code",
   "execution_count": 37,
   "id": "692d9331",
   "metadata": {},
   "outputs": [
    {
     "data": {
      "text/plain": [
       "1.0"
      ]
     },
     "execution_count": 37,
     "metadata": {},
     "output_type": "execute_result"
    }
   ],
   "source": [
    "rf = RandomForestClassifier()\n",
    "\n",
    "rf.fit(X_train_bow, y_train)\n",
    "\n",
    "# training accuracy \n",
    "f1_score(y_train, rf.predict(X_train_bow))"
   ]
  },
  {
   "cell_type": "code",
   "execution_count": 38,
   "id": "3a5d1e09",
   "metadata": {},
   "outputs": [
    {
     "data": {
      "text/plain": [
       "0.9261829652996846"
      ]
     },
     "execution_count": 38,
     "metadata": {},
     "output_type": "execute_result"
    }
   ],
   "source": [
    "# testing accuracy \n",
    "f1_score(y_test, rf.predict(X_test_bow))"
   ]
  },
  {
   "cell_type": "code",
   "execution_count": 39,
   "id": "642179ed",
   "metadata": {},
   "outputs": [
    {
     "name": "stdout",
     "output_type": "stream",
     "text": [
      "0.9393748688902873\n",
      "0.9167701863354036\n"
     ]
    }
   ],
   "source": [
    "rf50 = RandomForestClassifier(max_depth=50)\n",
    "\n",
    "rf50.fit(X_train_bow, y_train)\n",
    "\n",
    "# training accuracy \n",
    "print(f1_score(y_train, rf50.predict(X_train_bow)))\n",
    "# testing accuracy\n",
    "print(f1_score(y_test, rf50.predict(X_test_bow)))"
   ]
  },
  {
   "cell_type": "markdown",
   "id": "f6c8df7c",
   "metadata": {},
   "source": [
    "### Try models with balanced class weight "
   ]
  },
  {
   "cell_type": "code",
   "execution_count": 40,
   "id": "8b8d235c",
   "metadata": {},
   "outputs": [
    {
     "data": {
      "text/plain": [
       "LogisticRegression(class_weight='balanced')"
      ]
     },
     "execution_count": 40,
     "metadata": {},
     "output_type": "execute_result"
    }
   ],
   "source": [
    "lr_cw = LogisticRegression(class_weight='balanced')\n",
    "lr_cw.fit(X_train_bow, y_train)"
   ]
  },
  {
   "cell_type": "code",
   "execution_count": 41,
   "id": "1ce6bb6f",
   "metadata": {},
   "outputs": [
    {
     "data": {
      "text/plain": [
       "0.9934816812766915"
      ]
     },
     "execution_count": 41,
     "metadata": {},
     "output_type": "execute_result"
    }
   ],
   "source": [
    "# training f1 score\n",
    "f1_score(y_train, lr_cw.predict(X_train_bow))\n"
   ]
  },
  {
   "cell_type": "code",
   "execution_count": 42,
   "id": "d97fc159",
   "metadata": {},
   "outputs": [
    {
     "data": {
      "text/plain": [
       "0.9069925322471146"
      ]
     },
     "execution_count": 42,
     "metadata": {},
     "output_type": "execute_result"
    }
   ],
   "source": [
    "f1_score(y_test, lr_cw.predict(X_test_bow))"
   ]
  },
  {
   "cell_type": "code",
   "execution_count": 43,
   "id": "4f57d010",
   "metadata": {},
   "outputs": [],
   "source": [
    "## decision tree, random forest (class_weight=\"balanced\")"
   ]
  },
  {
   "cell_type": "code",
   "execution_count": 44,
   "id": "4ef07e67",
   "metadata": {},
   "outputs": [
    {
     "data": {
      "text/plain": [
       "1.0"
      ]
     },
     "execution_count": 44,
     "metadata": {},
     "output_type": "execute_result"
    }
   ],
   "source": [
    "# decision tree classifier, class_weight(\"balanced\")\n",
    "dt = DecisionTreeClassifier(class_weight=\"balanced\")\n",
    "dt.fit(X_train_bow, y_train)\n",
    "\n",
    "# training accuracy \n",
    "f1_score(y_train, dt.predict(X_train_bow))"
   ]
  },
  {
   "cell_type": "code",
   "execution_count": 45,
   "id": "3f8f41f0",
   "metadata": {},
   "outputs": [
    {
     "data": {
      "text/plain": [
       "0.8663853727144866"
      ]
     },
     "execution_count": 45,
     "metadata": {},
     "output_type": "execute_result"
    }
   ],
   "source": [
    "# testing accuracy \n",
    "f1_score(y_test, dt.predict(X_test_bow))"
   ]
  },
  {
   "cell_type": "code",
   "execution_count": 46,
   "id": "6df9be24",
   "metadata": {},
   "outputs": [
    {
     "data": {
      "text/plain": [
       "0.9997767358785443"
      ]
     },
     "execution_count": 46,
     "metadata": {},
     "output_type": "execute_result"
    }
   ],
   "source": [
    "# random forest classifier, class_weight(\"balanced\")\n",
    "rfcwb = RandomForestClassifier(class_weight=\"balanced\")\n",
    "\n",
    "rfcwb.fit(X_train_bow, y_train)\n",
    "\n",
    "# training accuracy \n",
    "f1_score(y_train, rfcwb.predict(X_train_bow))"
   ]
  },
  {
   "cell_type": "code",
   "execution_count": 47,
   "id": "77171bdb",
   "metadata": {},
   "outputs": [
    {
     "data": {
      "text/plain": [
       "0.9255050505050505"
      ]
     },
     "execution_count": 47,
     "metadata": {},
     "output_type": "execute_result"
    }
   ],
   "source": [
    "f1_score(y_test, rfcwb.predict(X_test_bow))"
   ]
  },
  {
   "cell_type": "markdown",
   "id": "bfa90584",
   "metadata": {},
   "source": [
    "#### TFIDF"
   ]
  },
  {
   "cell_type": "code",
   "execution_count": 48,
   "id": "8a347358",
   "metadata": {},
   "outputs": [],
   "source": [
    "# tfidf \n",
    "tfidf_vectorizer = TfidfVectorizer()\n",
    "X_train_tf = tfidf_vectorizer.fit_transform(X_train)\n",
    "X_test_tf = tfidf_vectorizer.transform(X_test)"
   ]
  },
  {
   "cell_type": "code",
   "execution_count": 49,
   "id": "350f4485",
   "metadata": {},
   "outputs": [
    {
     "name": "stdout",
     "output_type": "stream",
     "text": [
      "training score\n",
      "0.8628335212326194\n",
      "test score\n",
      "0.8432919954904171\n"
     ]
    }
   ],
   "source": [
    "lr = LogisticRegression()\n",
    "lr.fit(X_train_tf, y_train)\n",
    "\n",
    "print(f\"training score\")\n",
    "print(lr.score(X_train_tf, y_train))\n",
    "print(f\"test score\")\n",
    "print(lr.score(X_test_tf, y_test))"
   ]
  },
  {
   "cell_type": "code",
   "execution_count": 50,
   "id": "442b3e29",
   "metadata": {},
   "outputs": [
    {
     "data": {
      "text/plain": [
       "0.8432919954904171"
      ]
     },
     "execution_count": 50,
     "metadata": {},
     "output_type": "execute_result"
    }
   ],
   "source": [
    "lr.score(X_test_tf, y_test)"
   ]
  },
  {
   "cell_type": "code",
   "execution_count": 51,
   "id": "baad6a1b",
   "metadata": {},
   "outputs": [
    {
     "name": "stdout",
     "output_type": "stream",
     "text": [
      "training score\n",
      "0.9902292371288989\n",
      "test score\n",
      "0.8173618940248027\n"
     ]
    }
   ],
   "source": [
    "dt = DecisionTreeClassifier(max_depth=75)\n",
    "dt.fit(X_train_tf, y_train)\n",
    "\n",
    "# training accuracy \n",
    "dt.score(X_train_tf, y_train)\n",
    "\n",
    "\n",
    "print(f\"training score\")\n",
    "print(dt.score(X_train_tf, y_train))\n",
    "print(f\"test score\")\n",
    "print(dt.score(X_test_tf, y_test))"
   ]
  },
  {
   "cell_type": "code",
   "execution_count": 52,
   "id": "15f96ed0",
   "metadata": {},
   "outputs": [
    {
     "name": "stdout",
     "output_type": "stream",
     "text": [
      "0.8917700112739572\n",
      "0.8421645997745209\n"
     ]
    }
   ],
   "source": [
    "rf50_tfidf= RandomForestClassifier(max_depth=50)\n",
    "\n",
    "rf50_tfidf.fit(X_train_tf, y_train)\n",
    "\n",
    "# training accuracy \n",
    "print(rf50_tfidf.score(X_train_tf, y_train))\n",
    "# testing accuracy\n",
    "print(rf50_tfidf.score(X_test_tf, y_test))"
   ]
  },
  {
   "cell_type": "code",
   "execution_count": 53,
   "id": "784eee0d",
   "metadata": {},
   "outputs": [],
   "source": [
    "### lr, dt, rf class_weight=balanced on tfidf data"
   ]
  },
  {
   "cell_type": "code",
   "execution_count": 54,
   "id": "998793f1",
   "metadata": {},
   "outputs": [
    {
     "name": "stdout",
     "output_type": "stream",
     "text": [
      "training score\n",
      "0.9492671927846674\n",
      "test score\n",
      "0.8331454340473506\n"
     ]
    }
   ],
   "source": [
    "lr = LogisticRegression(class_weight=\"balanced\")\n",
    "lr.fit(X_train_tf, y_train)\n",
    "\n",
    "print(f\"training score\")\n",
    "print(lr.score(X_train_tf, y_train))\n",
    "print(f\"test score\")\n",
    "print(lr.score(X_test_tf, y_test))"
   ]
  },
  {
   "cell_type": "code",
   "execution_count": 55,
   "id": "e2e5229d",
   "metadata": {},
   "outputs": [
    {
     "name": "stdout",
     "output_type": "stream",
     "text": [
      "training score\n",
      "0.9229612927470876\n",
      "test score\n",
      "0.7733934611048479\n"
     ]
    }
   ],
   "source": [
    "dt = DecisionTreeClassifier(max_depth=75, class_weight=\"balanced\")\n",
    "dt.fit(X_train_tf, y_train)\n",
    "\n",
    "# training accuracy \n",
    "dt.score(X_train_tf, y_train)\n",
    "\n",
    "\n",
    "print(f\"training score\")\n",
    "print(dt.score(X_train_tf, y_train))\n",
    "print(f\"test score\")\n",
    "print(dt.score(X_test_tf, y_test))"
   ]
  },
  {
   "cell_type": "code",
   "execution_count": 56,
   "id": "fe888eb2",
   "metadata": {},
   "outputs": [
    {
     "name": "stdout",
     "output_type": "stream",
     "text": [
      "training score\n",
      "0.9815858699736941\n",
      "test score\n",
      "0.85456595264938\n"
     ]
    }
   ],
   "source": [
    "rf50_cwb_tfidf = RandomForestClassifier(max_depth=50, class_weight=\"balanced\")\n",
    "\n",
    "rf50_cwb_tfidf.fit(X_train_tf, y_train)\n",
    "\n",
    "print(f\"training score\")\n",
    "print(rf50_cwb_tfidf.score(X_train_tf, y_train))\n",
    "print(f\"test score\")\n",
    "print(rf50_cwb_tfidf.score(X_test_tf, y_test))"
   ]
  },
  {
   "cell_type": "markdown",
   "id": "43e00db0",
   "metadata": {},
   "source": [
    "# 5. Interpret"
   ]
  },
  {
   "cell_type": "code",
   "execution_count": 62,
   "id": "f4ea232e",
   "metadata": {},
   "outputs": [
    {
     "name": "stderr",
     "output_type": "stream",
     "text": [
      "C:\\Users\\Jeff\\anaconda3\\lib\\site-packages\\sklearn\\utils\\deprecation.py:87: FutureWarning: Function plot_confusion_matrix is deprecated; Function `plot_confusion_matrix` is deprecated in 1.0 and will be removed in 1.2. Use one of the class methods: ConfusionMatrixDisplay.from_predictions or ConfusionMatrixDisplay.from_estimator.\n",
      "  warnings.warn(msg, category=FutureWarning)\n"
     ]
    },
    {
     "data": {
      "text/plain": [
       "<sklearn.metrics._plot.confusion_matrix.ConfusionMatrixDisplay at 0x2470cd2aa00>"
      ]
     },
     "execution_count": 62,
     "metadata": {},
     "output_type": "execute_result"
    },
    {
     "data": {
      "image/png": "[encoded data removed]",
      "text/plain": [
       "<Figure size 432x288 with 2 Axes>"
      ]
     },
     "metadata": {
      "needs_background": "light"
     },
     "output_type": "display_data"
    }
   ],
   "source": [
    "plot_confusion_matrix(rf, X_test_bow, y_test)"
   ]
  },
  {
   "cell_type": "code",
   "execution_count": 63,
   "id": "93ea71b6",
   "metadata": {},
   "outputs": [
    {
     "data": {
      "text/plain": [
       "array([0.00000000e+00, 2.50994255e-07, 2.78975865e-04, ...,\n",
       "       0.00000000e+00, 3.73638766e-04, 1.93346765e-06])"
      ]
     },
     "execution_count": 63,
     "metadata": {},
     "output_type": "execute_result"
    }
   ],
   "source": [
    "rf.feature_importances_"
   ]
  },
  {
   "cell_type": "code",
   "execution_count": 65,
   "id": "7aa55094",
   "metadata": {},
   "outputs": [
    {
     "data": {
      "text/plain": [
       "array(['0310', '0310apple', '10', ..., 'zoom', 'zzzs', 'ξсԍύݍ'],\n",
       "      dtype=object)"
      ]
     },
     "execution_count": 65,
     "metadata": {},
     "output_type": "execute_result"
    }
   ],
   "source": [
    "vectorizer.get_feature_names_out()"
   ]
  },
  {
   "cell_type": "code",
   "execution_count": 102,
   "id": "79c9d4ea",
   "metadata": {},
   "outputs": [],
   "source": [
    "feat_importance = pd.DataFrame({\"word\": vectorizer.get_feature_names_out(), \n",
    "                               \"importance\": rf.feature_importances_})"
   ]
  },
  {
   "cell_type": "code",
   "execution_count": 114,
   "id": "642c062f",
   "metadata": {},
   "outputs": [
    {
     "data": {
      "image/png": "[encoded data removed]",
      "text/plain": [
       "<Figure size 432x288 with 1 Axes>"
      ]
     },
     "metadata": {
      "needs_background": "light"
     },
     "output_type": "display_data"
    }
   ],
   "source": [
    "color=['#5cb85c','#5bc0de','#d9534f']\n",
    "feat_importance.sort_values(by=\"importance\", ascending=False).head(10).set_index(\"word\").plot(kind=\"barh\", color=color)\n",
    "plt.gca().invert_yaxis()"
   ]
  },
  {
   "cell_type": "code",
   "execution_count": 117,
   "id": "e4275d9d",
   "metadata": {},
   "outputs": [
    {
     "data": {
      "text/html": [
       "<div>\n",
       "<style scoped>\n",
       "    .dataframe tbody tr th:only-of-type {\n",
       "        vertical-align: middle;\n",
       "    }\n",
       "\n",
       "    .dataframe tbody tr th {\n",
       "        vertical-align: top;\n",
       "    }\n",
       "\n",
       "    .dataframe thead th {\n",
       "        text-align: right;\n",
       "    }\n",
       "</style>\n",
       "<table border=\"1\" class=\"dataframe\">\n",
       "  <thead>\n",
       "    <tr style=\"text-align: right;\">\n",
       "      <th></th>\n",
       "      <th>word</th>\n",
       "      <th>importance</th>\n",
       "    </tr>\n",
       "  </thead>\n",
       "  <tbody>\n",
       "    <tr>\n",
       "      <th>2812</th>\n",
       "      <td>link</td>\n",
       "      <td>0.012211</td>\n",
       "    </tr>\n",
       "    <tr>\n",
       "      <th>1722</th>\n",
       "      <td>fail</td>\n",
       "      <td>0.011311</td>\n",
       "    </tr>\n",
       "    <tr>\n",
       "      <th>2218</th>\n",
       "      <td>headaches</td>\n",
       "      <td>0.009377</td>\n",
       "    </tr>\n",
       "    <tr>\n",
       "      <th>3024</th>\n",
       "      <td>mention</td>\n",
       "      <td>0.009289</td>\n",
       "    </tr>\n",
       "    <tr>\n",
       "      <th>1745</th>\n",
       "      <td>fascist</td>\n",
       "      <td>0.007875</td>\n",
       "    </tr>\n",
       "    <tr>\n",
       "      <th>3113</th>\n",
       "      <td>money</td>\n",
       "      <td>0.007461</td>\n",
       "    </tr>\n",
       "    <tr>\n",
       "      <th>2207</th>\n",
       "      <td>hate</td>\n",
       "      <td>0.007321</td>\n",
       "    </tr>\n",
       "    <tr>\n",
       "      <th>1425</th>\n",
       "      <td>doesnt</td>\n",
       "      <td>0.007009</td>\n",
       "    </tr>\n",
       "    <tr>\n",
       "      <th>2547</th>\n",
       "      <td>iphone</td>\n",
       "      <td>0.005729</td>\n",
       "    </tr>\n",
       "    <tr>\n",
       "      <th>2853</th>\n",
       "      <td>long</td>\n",
       "      <td>0.004918</td>\n",
       "    </tr>\n",
       "  </tbody>\n",
       "</table>\n",
       "</div>"
      ],
      "text/plain": [
       "           word  importance\n",
       "2812       link    0.012211\n",
       "1722       fail    0.011311\n",
       "2218  headaches    0.009377\n",
       "3024    mention    0.009289\n",
       "1745    fascist    0.007875\n",
       "3113      money    0.007461\n",
       "2207       hate    0.007321\n",
       "1425     doesnt    0.007009\n",
       "2547     iphone    0.005729\n",
       "2853       long    0.004918"
      ]
     },
     "execution_count": 117,
     "metadata": {},
     "output_type": "execute_result"
    }
   ],
   "source": [
    "fi = feat_importance.sort_values(by=\"importance\", ascending=False).head(10)\n",
    "fi"
   ]
  },
  {
   "cell_type": "code",
   "execution_count": 124,
   "id": "ef25ee79",
   "metadata": {},
   "outputs": [
    {
     "data": {
      "image/png": "[encoded data removed]",
      "text/plain": [
       "<Figure size 432x288 with 1 Axes>"
      ]
     },
     "metadata": {
      "needs_background": "light"
     },
     "output_type": "display_data"
    }
   ],
   "source": [
    "plt.barh(y=fi[\"word\"], width=fi[\"importance\"], color=['#5cb85c', '#d9534f','#5bc0de','#d9534f'])\n",
    "plt.gca().invert_yaxis()"
   ]
  },
  {
   "cell_type": "code",
   "execution_count": 77,
   "id": "cf801e54",
   "metadata": {},
   "outputs": [],
   "source": [
    "def word_counts_by_class(word):\n",
    "    try:\n",
    "        positive = df[df['target'] == 1]['tweets_without_stopwords'].str.split(expand=True).stack().value_counts()[word]\n",
    "    except KeyError:\n",
    "        positive = 0\n",
    "    try:\n",
    "        negative =   df[df['target'] == 0]['tweets_without_stopwords'].str.split(expand=True).stack().value_counts()[word]\n",
    "    except KeyError:\n",
    "        negative = 0\n",
    "    print(f\"postive count: {positive}\")\n",
    "    print(f\"negative count: {negative}\")"
   ]
  },
  {
   "cell_type": "code",
   "execution_count": 123,
   "id": "2b897136",
   "metadata": {},
   "outputs": [
    {
     "name": "stdout",
     "output_type": "stream",
     "text": [
      "postive count: 7\n",
      "negative count: 17\n"
     ]
    }
   ],
   "source": [
    "word_counts_by_class(\"fail\")"
   ]
  },
  {
   "cell_type": "code",
   "execution_count": 87,
   "id": "1feb2993",
   "metadata": {},
   "outputs": [
    {
     "data": {
      "text/html": [
       "<div>\n",
       "<style scoped>\n",
       "    .dataframe tbody tr th:only-of-type {\n",
       "        vertical-align: middle;\n",
       "    }\n",
       "\n",
       "    .dataframe tbody tr th {\n",
       "        vertical-align: top;\n",
       "    }\n",
       "\n",
       "    .dataframe thead th {\n",
       "        text-align: right;\n",
       "    }\n",
       "</style>\n",
       "<table border=\"1\" class=\"dataframe\">\n",
       "  <thead>\n",
       "    <tr style=\"text-align: right;\">\n",
       "      <th></th>\n",
       "      <th>tweet_text</th>\n",
       "      <th>emotion_in_tweet_is_directed_at</th>\n",
       "      <th>target</th>\n",
       "      <th>tweet_lowercase</th>\n",
       "      <th>no_punctuation</th>\n",
       "      <th>tweets_without_stopwords</th>\n",
       "    </tr>\n",
       "  </thead>\n",
       "  <tbody>\n",
       "    <tr>\n",
       "      <th>0</th>\n",
       "      <td>.@wesley83 I have a 3G iPhone. After 3 hrs twe...</td>\n",
       "      <td>iPhone</td>\n",
       "      <td>0</td>\n",
       "      <td>.@wesley83 i have a 3g iphone. after 3 hrs twe...</td>\n",
       "      <td>wesley83 i have a 3g iphone after 3 hrs tweeti...</td>\n",
       "      <td>wesley83 3g iphone 3 hrs tweeting riseaustin d...</td>\n",
       "    </tr>\n",
       "    <tr>\n",
       "      <th>1</th>\n",
       "      <td>@jessedee Know about @fludapp ? Awesome iPad/i...</td>\n",
       "      <td>iPad or iPhone App</td>\n",
       "      <td>1</td>\n",
       "      <td>@jessedee know about @fludapp ? awesome ipad/i...</td>\n",
       "      <td>jessedee know about fludapp  awesome ipadiphon...</td>\n",
       "      <td>jessedee know fludapp awesome ipadiphone app y...</td>\n",
       "    </tr>\n",
       "    <tr>\n",
       "      <th>2</th>\n",
       "      <td>@swonderlin Can not wait for #iPad 2 also. The...</td>\n",
       "      <td>iPad</td>\n",
       "      <td>1</td>\n",
       "      <td>@swonderlin can not wait for #ipad 2 also. the...</td>\n",
       "      <td>swonderlin can not wait for ipad 2 also they s...</td>\n",
       "      <td>swonderlin wait ipad 2 also sale sxsw</td>\n",
       "    </tr>\n",
       "    <tr>\n",
       "      <th>3</th>\n",
       "      <td>@sxsw I hope this year's festival isn't as cra...</td>\n",
       "      <td>iPad or iPhone App</td>\n",
       "      <td>0</td>\n",
       "      <td>@sxsw i hope this year's festival isn't as cra...</td>\n",
       "      <td>sxsw i hope this years festival isnt as crashy...</td>\n",
       "      <td>sxsw hope years festival isnt crashy years iph...</td>\n",
       "    </tr>\n",
       "    <tr>\n",
       "      <th>4</th>\n",
       "      <td>@sxtxstate great stuff on Fri #SXSW: Marissa M...</td>\n",
       "      <td>Google</td>\n",
       "      <td>1</td>\n",
       "      <td>@sxtxstate great stuff on fri #sxsw: marissa m...</td>\n",
       "      <td>sxtxstate great stuff on fri sxsw marissa maye...</td>\n",
       "      <td>sxtxstate great stuff fri sxsw marissa mayer g...</td>\n",
       "    </tr>\n",
       "  </tbody>\n",
       "</table>\n",
       "</div>"
      ],
      "text/plain": [
       "                                          tweet_text  \\\n",
       "0  .@wesley83 I have a 3G iPhone. After 3 hrs twe...   \n",
       "1  @jessedee Know about @fludapp ? Awesome iPad/i...   \n",
       "2  @swonderlin Can not wait for #iPad 2 also. The...   \n",
       "3  @sxsw I hope this year's festival isn't as cra...   \n",
       "4  @sxtxstate great stuff on Fri #SXSW: Marissa M...   \n",
       "\n",
       "  emotion_in_tweet_is_directed_at  target  \\\n",
       "0                          iPhone       0   \n",
       "1              iPad or iPhone App       1   \n",
       "2                            iPad       1   \n",
       "3              iPad or iPhone App       0   \n",
       "4                          Google       1   \n",
       "\n",
       "                                     tweet_lowercase  \\\n",
       "0  .@wesley83 i have a 3g iphone. after 3 hrs twe...   \n",
       "1  @jessedee know about @fludapp ? awesome ipad/i...   \n",
       "2  @swonderlin can not wait for #ipad 2 also. the...   \n",
       "3  @sxsw i hope this year's festival isn't as cra...   \n",
       "4  @sxtxstate great stuff on fri #sxsw: marissa m...   \n",
       "\n",
       "                                      no_punctuation  \\\n",
       "0  wesley83 i have a 3g iphone after 3 hrs tweeti...   \n",
       "1  jessedee know about fludapp  awesome ipadiphon...   \n",
       "2  swonderlin can not wait for ipad 2 also they s...   \n",
       "3  sxsw i hope this years festival isnt as crashy...   \n",
       "4  sxtxstate great stuff on fri sxsw marissa maye...   \n",
       "\n",
       "                            tweets_without_stopwords  \n",
       "0  wesley83 3g iphone 3 hrs tweeting riseaustin d...  \n",
       "1  jessedee know fludapp awesome ipadiphone app y...  \n",
       "2              swonderlin wait ipad 2 also sale sxsw  \n",
       "3  sxsw hope years festival isnt crashy years iph...  \n",
       "4  sxtxstate great stuff fri sxsw marissa mayer g...  "
      ]
     },
     "execution_count": 87,
     "metadata": {},
     "output_type": "execute_result"
    }
   ],
   "source": [
    "df.head()"
   ]
  },
  {
   "cell_type": "code",
   "execution_count": 92,
   "id": "890ef706",
   "metadata": {},
   "outputs": [],
   "source": [
    "def tweet_finder_by_word(word):\n",
    "    for index, row in df.iterrows():\n",
    "        if word in row[\"tweets_without_stopwords\"]:\n",
    "            if row[\"target\"] == 0:\n",
    "                print(f\"negative - {row['tweet_text']}\")\n",
    "            else:\n",
    "                print(f\"positive - {row['tweet_text']}\")"
   ]
  },
  {
   "cell_type": "code",
   "execution_count": 100,
   "id": "01cc5478",
   "metadata": {},
   "outputs": [
    {
     "name": "stdout",
     "output_type": "stream",
     "text": [
      "positive - Excited to meet the @samsungmobileus at #sxsw so I can show them my Sprint Galaxy S still running Android 2.1.   #fail\n",
      "positive - I love my @mention iPhone case from #Sxsw but I can't get my phone out of it #fail\n",
      "positive - How could I forget my cell phone today for #SXSW what a fail glad I have my iPad #lifelinetotheworld\n",
      "negative - So we get to see google fail at social on another day RT @mention Okay, no Google Circles debuting at #sxsw today\n",
      "negative - @mention @mention @mention @mention Paper phones?  Means an iPad will likely be useless at #sxsw as well. #fail\n",
      "negative - 2+ hour wait at the makeshift Apple store for iPad 2. #fail #sxsw\n",
      "negative - @mention another google social failure? #sxsw\n",
      "negative - Stupid technology! You always fail at important times! At #SXSW w/ an iPhone, laptop AND Blackberry and the only thing working is my pen.\n",
      "positive - Fail Whale artist @mention living through the iPad 2 #sxsw {link}\n",
      "negative - #sxsw live stream not working on iPad #fail {link}\n",
      "negative - just walked by the line for the iPad 2. Bahahahaha! at least 5 blocks long. #fail #SXSW\n",
      "positive - I convinced myself not to upgrade to iPad 2. But then I just held one at the #SxSW trade show... and failed my willpower check.\n",
      "negative - To my friends at #SXSW who think I abandoned you, in reality I just didn't have any means of communication, my iPhone stopped working. #fail\n",
      "negative - Oh no utter @mention #sxsw fail. Can't see the letter of the ballroom in the iPhone app as it is too long and doesn't wrap /cc @mention\n",
      "negative - google presentation by Mayer is a sales pitch #fail #sxsw\n",
      "negative - Beware, the android #sxsw app for schedules is completely innacurate. Just walked to the hyatt for no reason #sxswfail\n",
      "negative - @mention I outdid myself this time with the tech #FAIL. iPhone=broken. Might be the worst thing that can ever happen at #sxsw\n",
      "negative - Techie Fail RT @mention One #SXSW panel moderator who is from Europe says he spent $3000 in roaming charges on his iPhone at SXSW 2010.\n",
      "negative - Hey @mention got invited to a new group at #SXSW and your Android app keeps crashing when I try to join! WTF? #sxswfail\n",
      "positive - Tech Check podcast -- #SxSW #Android passes #BlackBerry, a big Twitter #fail! -- {link} by @mention #sxsw #cnn\n",
      "positive - Tech Check podcast -- South By Southwest, Android passes BlackBerry, a big Twitter fail -- {link} #sxsw #cnn\n",
      "negative - After failure of Google buzz, Google Latitude, now Google Circle! Seriously Google needs to concentrate more on search! #FAIL #google #sxsw\n",
      "negative - Does anyone have an address for the yeasayer concert tonight? Google maps is failing. #sxsw\n",
      "negative - My tweeting from #sxsw been pretty non existent today thanks to the @mention iPhone app #fail - Hootsuite is the epic replacement! #owllove\n",
      "negative - Excited to meet the @mention at #sxsw so I can show them my Sprint Galaxy S still running Android 2.1.   #fail\n",
      "positive - RT @mention Fail Whale artist @mention living through the iPad 2 #sxsw {link}\n",
      "negative - RT @mention google presentation by Mayer is a sales pitch #fail #sxsw\n",
      "positive - RT @mention I convinced myself not to upgrade to iPad 2. But then I just held one at the #SxSW trade show... and failed my willpower check.\n",
      "negative - #sxsw iPhone app: control mania! Half of the screen used for buttons and filters, other half for content. #ui-fail\n",
      "negative - Twitter you have failed me for the last time *force chokes iPhone* #sxsw\n",
      "negative - #Circles set to fail for being too complicated by June. RT @mention Google set to launch new social network #Circles today at #sxsw\n",
      "negative - Massive #sxsw fail to run out of #iPad2 @mention Should have had a semi full parked out front! #justsayin {link}\n"
     ]
    }
   ],
   "source": [
    "tweet_finder_by_word(\"fail\")"
   ]
  },
  {
   "cell_type": "code",
   "execution_count": null,
   "id": "8d6c0557",
   "metadata": {},
   "outputs": [],
   "source": [
    "with plt.style.context('fivethirtyeight'):\n",
    "    df[df['target'] == 1]['tweets_without_stopwords'].str.split(\n",
    "        expand=True).stack().value_counts().head(10).plot(kind='barh', color=\"c\")"
   ]
  },
  {
   "cell_type": "code",
   "execution_count": 58,
   "id": "3b54dd07",
   "metadata": {},
   "outputs": [],
   "source": [
    "# 1/ Use F1 score instead of accuracy for ALL THE MODELS. Harmonic mean of precision and recall\n",
    "# 2. For each model, try setting class weight (class_weight=\"balanced\")"
   ]
  },
  {
   "cell_type": "code",
   "execution_count": null,
   "id": "7f902858",
   "metadata": {},
   "outputs": [],
   "source": [
    "positive - Excited to meet the @samsungmobileus at #sxsw so I can show them my Sprint Galaxy S still running Android 2.1.   #fail\n",
    "\n",
    "# Future work, look at the labels of the tweets. There looks to be examples of tweets that seem to be mislabeled, such as "
   ]
  }
 ],
 "metadata": {
  "kernelspec": {
   "display_name": "Python 3 (ipykernel)",
   "language": "python",
   "name": "python3"
  },
  "language_info": {
   "codemirror_mode": {
    "name": "ipython",
    "version": 3
   },
   "file_extension": ".py",
   "mimetype": "text/x-python",
   "name": "python",
   "nbconvert_exporter": "python",
   "pygments_lexer": "ipython3",
   "version": "3.9.12"
  }
 },
 "nbformat": 4,
 "nbformat_minor": 5
}
