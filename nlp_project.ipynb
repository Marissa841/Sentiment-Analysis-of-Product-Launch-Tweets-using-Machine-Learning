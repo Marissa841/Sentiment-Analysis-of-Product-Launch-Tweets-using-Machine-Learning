{
 "cells": [
  {
   "cell_type": "markdown",
   "id": "2715fa90",
   "metadata": {},
   "source": [
    "# Business Problem\n",
    "### This project determines which tweets can be correctly identified to contain  either positive sentiments (“Positive emotion”) or negative sentiments (“Negative emotion”) using a binary classifier. \n"
   ]
  },
  {
   "cell_type": "code",
   "execution_count": 1,
   "id": "de6414bb",
   "metadata": {},
   "outputs": [],
   "source": [
    "# imports\n",
    "\n",
    "import pandas as pd\n",
    "import numpy as np\n",
    "import matplotlib.pyplot as plt\n",
    "\n",
    "from sklearn.feature_extraction.text import CountVectorizer, TfidfVectorizer\n",
    "from sklearn.model_selection import train_test_split\n",
    "from sklearn.linear_model import LogisticRegression\n",
    "from sklearn.tree import DecisionTreeClassifier\n",
    "from sklearn.ensemble import RandomForestClassifier\n",
    "from sklearn.metrics import plot_confusion_matrix\n",
    "from sklearn.metrics import f1_score\n",
    "\n",
    "import matplotlib.patches as mpatches\n",
    "\n",
    "\n",
    "import string\n",
    "\n",
    "from nltk.corpus import stopwords\n",
    "stop = stopwords.words('english')\n",
    "\n",
    "from helper import model_helper, word_count_by_class, tweet_finder_by_word"
   ]
  },
  {
   "cell_type": "markdown",
   "id": "53b07662",
   "metadata": {},
   "source": [
    "# 1. Obtain"
   ]
  },
  {
   "cell_type": "code",
   "execution_count": 2,
   "id": "442986e0",
   "metadata": {},
   "outputs": [
    {
     "data": {
      "text/html": [
       "<div>\n",
       "<style scoped>\n",
       "    .dataframe tbody tr th:only-of-type {\n",
       "        vertical-align: middle;\n",
       "    }\n",
       "\n",
       "    .dataframe tbody tr th {\n",
       "        vertical-align: top;\n",
       "    }\n",
       "\n",
       "    .dataframe thead th {\n",
       "        text-align: right;\n",
       "    }\n",
       "</style>\n",
       "<table border=\"1\" class=\"dataframe\">\n",
       "  <thead>\n",
       "    <tr style=\"text-align: right;\">\n",
       "      <th></th>\n",
       "      <th>tweet_text</th>\n",
       "      <th>emotion_in_tweet_is_directed_at</th>\n",
       "      <th>is_there_an_emotion_directed_at_a_brand_or_product</th>\n",
       "    </tr>\n",
       "  </thead>\n",
       "  <tbody>\n",
       "    <tr>\n",
       "      <th>0</th>\n",
       "      <td>.@wesley83 I have a 3G iPhone. After 3 hrs twe...</td>\n",
       "      <td>iPhone</td>\n",
       "      <td>Negative emotion</td>\n",
       "    </tr>\n",
       "    <tr>\n",
       "      <th>1</th>\n",
       "      <td>@jessedee Know about @fludapp ? Awesome iPad/i...</td>\n",
       "      <td>iPad or iPhone App</td>\n",
       "      <td>Positive emotion</td>\n",
       "    </tr>\n",
       "    <tr>\n",
       "      <th>2</th>\n",
       "      <td>@swonderlin Can not wait for #iPad 2 also. The...</td>\n",
       "      <td>iPad</td>\n",
       "      <td>Positive emotion</td>\n",
       "    </tr>\n",
       "    <tr>\n",
       "      <th>3</th>\n",
       "      <td>@sxsw I hope this year's festival isn't as cra...</td>\n",
       "      <td>iPad or iPhone App</td>\n",
       "      <td>Negative emotion</td>\n",
       "    </tr>\n",
       "    <tr>\n",
       "      <th>4</th>\n",
       "      <td>@sxtxstate great stuff on Fri #SXSW: Marissa M...</td>\n",
       "      <td>Google</td>\n",
       "      <td>Positive emotion</td>\n",
       "    </tr>\n",
       "  </tbody>\n",
       "</table>\n",
       "</div>"
      ],
      "text/plain": [
       "                                          tweet_text  \\\n",
       "0  .@wesley83 I have a 3G iPhone. After 3 hrs twe...   \n",
       "1  @jessedee Know about @fludapp ? Awesome iPad/i...   \n",
       "2  @swonderlin Can not wait for #iPad 2 also. The...   \n",
       "3  @sxsw I hope this year's festival isn't as cra...   \n",
       "4  @sxtxstate great stuff on Fri #SXSW: Marissa M...   \n",
       "\n",
       "  emotion_in_tweet_is_directed_at  \\\n",
       "0                          iPhone   \n",
       "1              iPad or iPhone App   \n",
       "2                            iPad   \n",
       "3              iPad or iPhone App   \n",
       "4                          Google   \n",
       "\n",
       "  is_there_an_emotion_directed_at_a_brand_or_product  \n",
       "0                                   Negative emotion  \n",
       "1                                   Positive emotion  \n",
       "2                                   Positive emotion  \n",
       "3                                   Negative emotion  \n",
       "4                                   Positive emotion  "
      ]
     },
     "execution_count": 2,
     "metadata": {},
     "output_type": "execute_result"
    }
   ],
   "source": [
    "# load in the dataset\n",
    "df = pd.read_csv(\"data/emoting_tweets.csv\", encoding_errors=\"ignore\")\n",
    "df.head()"
   ]
  },
  {
   "cell_type": "markdown",
   "id": "b2bf5198",
   "metadata": {},
   "source": [
    "# 2. Scrub + Explore"
   ]
  },
  {
   "cell_type": "code",
   "execution_count": 3,
   "id": "b326f4bb",
   "metadata": {},
   "outputs": [
    {
     "data": {
      "text/html": [
       "<div>\n",
       "<style scoped>\n",
       "    .dataframe tbody tr th:only-of-type {\n",
       "        vertical-align: middle;\n",
       "    }\n",
       "\n",
       "    .dataframe tbody tr th {\n",
       "        vertical-align: top;\n",
       "    }\n",
       "\n",
       "    .dataframe thead th {\n",
       "        text-align: right;\n",
       "    }\n",
       "</style>\n",
       "<table border=\"1\" class=\"dataframe\">\n",
       "  <thead>\n",
       "    <tr style=\"text-align: right;\">\n",
       "      <th></th>\n",
       "      <th>tweet_text</th>\n",
       "      <th>emotion_in_tweet_is_directed_at</th>\n",
       "      <th>is_there_an_emotion_directed_at_a_brand_or_product</th>\n",
       "    </tr>\n",
       "  </thead>\n",
       "  <tbody>\n",
       "    <tr>\n",
       "      <th>count</th>\n",
       "      <td>9092</td>\n",
       "      <td>3291</td>\n",
       "      <td>9093</td>\n",
       "    </tr>\n",
       "    <tr>\n",
       "      <th>unique</th>\n",
       "      <td>9063</td>\n",
       "      <td>9</td>\n",
       "      <td>4</td>\n",
       "    </tr>\n",
       "    <tr>\n",
       "      <th>top</th>\n",
       "      <td>RT @mention Marissa Mayer: Google Will Connect...</td>\n",
       "      <td>iPad</td>\n",
       "      <td>No emotion toward brand or product</td>\n",
       "    </tr>\n",
       "    <tr>\n",
       "      <th>freq</th>\n",
       "      <td>5</td>\n",
       "      <td>946</td>\n",
       "      <td>5389</td>\n",
       "    </tr>\n",
       "  </tbody>\n",
       "</table>\n",
       "</div>"
      ],
      "text/plain": [
       "                                               tweet_text  \\\n",
       "count                                                9092   \n",
       "unique                                               9063   \n",
       "top     RT @mention Marissa Mayer: Google Will Connect...   \n",
       "freq                                                    5   \n",
       "\n",
       "       emotion_in_tweet_is_directed_at  \\\n",
       "count                             3291   \n",
       "unique                               9   \n",
       "top                               iPad   \n",
       "freq                               946   \n",
       "\n",
       "       is_there_an_emotion_directed_at_a_brand_or_product  \n",
       "count                                                9093  \n",
       "unique                                                  4  \n",
       "top                    No emotion toward brand or product  \n",
       "freq                                                 5389  "
      ]
     },
     "execution_count": 3,
     "metadata": {},
     "output_type": "execute_result"
    }
   ],
   "source": [
    "df.describe()"
   ]
  },
  {
   "cell_type": "code",
   "execution_count": 4,
   "id": "04577423",
   "metadata": {},
   "outputs": [
    {
     "data": {
      "text/plain": [
       "(9093, 3)"
      ]
     },
     "execution_count": 4,
     "metadata": {},
     "output_type": "execute_result"
    }
   ],
   "source": [
    "df.shape"
   ]
  },
  {
   "cell_type": "code",
   "execution_count": 5,
   "id": "20a95d00",
   "metadata": {},
   "outputs": [],
   "source": [
    "# rename target column\n",
    "df[\"target\"] = df[\"is_there_an_emotion_directed_at_a_brand_or_product\"]"
   ]
  },
  {
   "cell_type": "code",
   "execution_count": 6,
   "id": "fc1c72d3",
   "metadata": {},
   "outputs": [],
   "source": [
    "# drop former target column to clean up dataset\n",
    "df.drop(columns=[\"is_there_an_emotion_directed_at_a_brand_or_product\"], inplace=True)"
   ]
  },
  {
   "cell_type": "code",
   "execution_count": 7,
   "id": "bbd245d1",
   "metadata": {},
   "outputs": [
    {
     "data": {
      "text/plain": [
       "No emotion toward brand or product    0.592654\n",
       "Positive emotion                      0.327505\n",
       "Negative emotion                      0.062686\n",
       "I can't tell                          0.017156\n",
       "Name: target, dtype: float64"
      ]
     },
     "execution_count": 7,
     "metadata": {},
     "output_type": "execute_result"
    }
   ],
   "source": [
    "# view target column distribution \n",
    "df[\"target\"].value_counts(normalize=True)"
   ]
  },
  {
   "cell_type": "code",
   "execution_count": 8,
   "id": "7768b335",
   "metadata": {},
   "outputs": [],
   "source": [
    "# drop two unnecessary target variables\n",
    "df = df[(df[\"target\"] != \"No emotion toward brand or product\") & (df[\"target\"] != \"I can't tell\")]"
   ]
  },
  {
   "cell_type": "code",
   "execution_count": 9,
   "id": "d43a77cc",
   "metadata": {},
   "outputs": [
    {
     "data": {
      "text/plain": [
       "Positive emotion    0.839346\n",
       "Negative emotion    0.160654\n",
       "Name: target, dtype: float64"
      ]
     },
     "execution_count": 9,
     "metadata": {},
     "output_type": "execute_result"
    }
   ],
   "source": [
    "# view target column distribution\n",
    "df[\"target\"].value_counts(normalize=True)"
   ]
  },
  {
   "cell_type": "code",
   "execution_count": 10,
   "id": "1d648a04",
   "metadata": {},
   "outputs": [
    {
     "data": {
      "image/png": "[encoded data removed]",
      "text/plain": [
       "<Figure size 432x288 with 1 Axes>"
      ]
     },
     "metadata": {},
     "output_type": "display_data"
    }
   ],
   "source": [
    "# View distribution of the target values\n",
    "with plt.style.context('fivethirtyeight'):\n",
    "    df['target'].value_counts().plot(kind='bar', color = \"c\")\n",
    "\n",
    "    # giving title to the plot\n",
    "    plt.title(\"Distribution of tweet sentiment\")\n",
    "\n",
    "    # giving X and Y labels\n",
    "    plt.xlabel(\"tweets\")\n",
    "    plt.xticks(rotation = 0)\n",
    "    plt.ylabel(\"# of tweets\")\n",
    "\n",
    "    plt.show()"
   ]
  },
  {
   "cell_type": "code",
   "execution_count": 11,
   "id": "812ed486",
   "metadata": {},
   "outputs": [
    {
     "data": {
      "text/plain": [
       "Positive emotion    2978\n",
       "Negative emotion     570\n",
       "Name: target, dtype: int64"
      ]
     },
     "execution_count": 11,
     "metadata": {},
     "output_type": "execute_result"
    }
   ],
   "source": [
    "# view target column counts\n",
    "df[\"target\"].value_counts()"
   ]
  },
  {
   "cell_type": "code",
   "execution_count": 12,
   "id": "4ae26766",
   "metadata": {},
   "outputs": [],
   "source": [
    "# change \"Positive emotion\" to equal 1 and \"Negative emotion\" to equal 0\n",
    "df[\"target\"] = np.where(df['target'] == \"Positive emotion\", 1, 0)"
   ]
  },
  {
   "cell_type": "code",
   "execution_count": 13,
   "id": "2c41c1bd",
   "metadata": {},
   "outputs": [
    {
     "data": {
      "text/plain": [
       "1    2978\n",
       "0     570\n",
       "Name: target, dtype: int64"
      ]
     },
     "execution_count": 13,
     "metadata": {},
     "output_type": "execute_result"
    }
   ],
   "source": [
    "# confirm change\n",
    "df[\"target\"].value_counts()"
   ]
  },
  {
   "cell_type": "code",
   "execution_count": 14,
   "id": "1a5b145d",
   "metadata": {},
   "outputs": [
    {
     "data": {
      "text/html": [
       "<div>\n",
       "<style scoped>\n",
       "    .dataframe tbody tr th:only-of-type {\n",
       "        vertical-align: middle;\n",
       "    }\n",
       "\n",
       "    .dataframe tbody tr th {\n",
       "        vertical-align: top;\n",
       "    }\n",
       "\n",
       "    .dataframe thead th {\n",
       "        text-align: right;\n",
       "    }\n",
       "</style>\n",
       "<table border=\"1\" class=\"dataframe\">\n",
       "  <thead>\n",
       "    <tr style=\"text-align: right;\">\n",
       "      <th></th>\n",
       "      <th>tweet_text</th>\n",
       "      <th>emotion_in_tweet_is_directed_at</th>\n",
       "      <th>target</th>\n",
       "      <th>tweet_lowercase</th>\n",
       "    </tr>\n",
       "  </thead>\n",
       "  <tbody>\n",
       "    <tr>\n",
       "      <th>0</th>\n",
       "      <td>.@wesley83 I have a 3G iPhone. After 3 hrs twe...</td>\n",
       "      <td>iPhone</td>\n",
       "      <td>0</td>\n",
       "      <td>.@wesley83 i have a 3g iphone. after 3 hrs twe...</td>\n",
       "    </tr>\n",
       "    <tr>\n",
       "      <th>1</th>\n",
       "      <td>@jessedee Know about @fludapp ? Awesome iPad/i...</td>\n",
       "      <td>iPad or iPhone App</td>\n",
       "      <td>1</td>\n",
       "      <td>@jessedee know about @fludapp ? awesome ipad/i...</td>\n",
       "    </tr>\n",
       "    <tr>\n",
       "      <th>2</th>\n",
       "      <td>@swonderlin Can not wait for #iPad 2 also. The...</td>\n",
       "      <td>iPad</td>\n",
       "      <td>1</td>\n",
       "      <td>@swonderlin can not wait for #ipad 2 also. the...</td>\n",
       "    </tr>\n",
       "    <tr>\n",
       "      <th>3</th>\n",
       "      <td>@sxsw I hope this year's festival isn't as cra...</td>\n",
       "      <td>iPad or iPhone App</td>\n",
       "      <td>0</td>\n",
       "      <td>@sxsw i hope this year's festival isn't as cra...</td>\n",
       "    </tr>\n",
       "    <tr>\n",
       "      <th>4</th>\n",
       "      <td>@sxtxstate great stuff on Fri #SXSW: Marissa M...</td>\n",
       "      <td>Google</td>\n",
       "      <td>1</td>\n",
       "      <td>@sxtxstate great stuff on fri #sxsw: marissa m...</td>\n",
       "    </tr>\n",
       "  </tbody>\n",
       "</table>\n",
       "</div>"
      ],
      "text/plain": [
       "                                          tweet_text  \\\n",
       "0  .@wesley83 I have a 3G iPhone. After 3 hrs twe...   \n",
       "1  @jessedee Know about @fludapp ? Awesome iPad/i...   \n",
       "2  @swonderlin Can not wait for #iPad 2 also. The...   \n",
       "3  @sxsw I hope this year's festival isn't as cra...   \n",
       "4  @sxtxstate great stuff on Fri #SXSW: Marissa M...   \n",
       "\n",
       "  emotion_in_tweet_is_directed_at  target  \\\n",
       "0                          iPhone       0   \n",
       "1              iPad or iPhone App       1   \n",
       "2                            iPad       1   \n",
       "3              iPad or iPhone App       0   \n",
       "4                          Google       1   \n",
       "\n",
       "                                     tweet_lowercase  \n",
       "0  .@wesley83 i have a 3g iphone. after 3 hrs twe...  \n",
       "1  @jessedee know about @fludapp ? awesome ipad/i...  \n",
       "2  @swonderlin can not wait for #ipad 2 also. the...  \n",
       "3  @sxsw i hope this year's festival isn't as cra...  \n",
       "4  @sxtxstate great stuff on fri #sxsw: marissa m...  "
      ]
     },
     "execution_count": 14,
     "metadata": {},
     "output_type": "execute_result"
    }
   ],
   "source": [
    "# set text to lowercase\n",
    "df['tweet_lowercase'] = df['tweet_text'].map(lambda x: str(x).lower())\n",
    "df.head()"
   ]
  },
  {
   "cell_type": "code",
   "execution_count": 15,
   "id": "0814848b",
   "metadata": {},
   "outputs": [],
   "source": [
    "# remove punctuation\n",
    "no_punctuation = []\n",
    "for s in df['tweet_lowercase']:\n",
    "    for p in string.punctuation:\n",
    "        s = s.replace(p, '')\n",
    "    no_punctuation.append(s)"
   ]
  },
  {
   "cell_type": "code",
   "execution_count": 16,
   "id": "3c42fa7e",
   "metadata": {},
   "outputs": [],
   "source": [
    "# add no_punction column to the dataframe\n",
    "df['no_punctuation'] = no_punctuation"
   ]
  },
  {
   "cell_type": "code",
   "execution_count": 17,
   "id": "7b5bb045",
   "metadata": {},
   "outputs": [
    {
     "data": {
      "text/html": [
       "<div>\n",
       "<style scoped>\n",
       "    .dataframe tbody tr th:only-of-type {\n",
       "        vertical-align: middle;\n",
       "    }\n",
       "\n",
       "    .dataframe tbody tr th {\n",
       "        vertical-align: top;\n",
       "    }\n",
       "\n",
       "    .dataframe thead th {\n",
       "        text-align: right;\n",
       "    }\n",
       "</style>\n",
       "<table border=\"1\" class=\"dataframe\">\n",
       "  <thead>\n",
       "    <tr style=\"text-align: right;\">\n",
       "      <th></th>\n",
       "      <th>tweet_text</th>\n",
       "      <th>emotion_in_tweet_is_directed_at</th>\n",
       "      <th>target</th>\n",
       "      <th>tweet_lowercase</th>\n",
       "      <th>no_punctuation</th>\n",
       "    </tr>\n",
       "  </thead>\n",
       "  <tbody>\n",
       "    <tr>\n",
       "      <th>0</th>\n",
       "      <td>.@wesley83 I have a 3G iPhone. After 3 hrs twe...</td>\n",
       "      <td>iPhone</td>\n",
       "      <td>0</td>\n",
       "      <td>.@wesley83 i have a 3g iphone. after 3 hrs twe...</td>\n",
       "      <td>wesley83 i have a 3g iphone after 3 hrs tweeti...</td>\n",
       "    </tr>\n",
       "    <tr>\n",
       "      <th>1</th>\n",
       "      <td>@jessedee Know about @fludapp ? Awesome iPad/i...</td>\n",
       "      <td>iPad or iPhone App</td>\n",
       "      <td>1</td>\n",
       "      <td>@jessedee know about @fludapp ? awesome ipad/i...</td>\n",
       "      <td>jessedee know about fludapp  awesome ipadiphon...</td>\n",
       "    </tr>\n",
       "    <tr>\n",
       "      <th>2</th>\n",
       "      <td>@swonderlin Can not wait for #iPad 2 also. The...</td>\n",
       "      <td>iPad</td>\n",
       "      <td>1</td>\n",
       "      <td>@swonderlin can not wait for #ipad 2 also. the...</td>\n",
       "      <td>swonderlin can not wait for ipad 2 also they s...</td>\n",
       "    </tr>\n",
       "    <tr>\n",
       "      <th>3</th>\n",
       "      <td>@sxsw I hope this year's festival isn't as cra...</td>\n",
       "      <td>iPad or iPhone App</td>\n",
       "      <td>0</td>\n",
       "      <td>@sxsw i hope this year's festival isn't as cra...</td>\n",
       "      <td>sxsw i hope this years festival isnt as crashy...</td>\n",
       "    </tr>\n",
       "    <tr>\n",
       "      <th>4</th>\n",
       "      <td>@sxtxstate great stuff on Fri #SXSW: Marissa M...</td>\n",
       "      <td>Google</td>\n",
       "      <td>1</td>\n",
       "      <td>@sxtxstate great stuff on fri #sxsw: marissa m...</td>\n",
       "      <td>sxtxstate great stuff on fri sxsw marissa maye...</td>\n",
       "    </tr>\n",
       "  </tbody>\n",
       "</table>\n",
       "</div>"
      ],
      "text/plain": [
       "                                          tweet_text  \\\n",
       "0  .@wesley83 I have a 3G iPhone. After 3 hrs twe...   \n",
       "1  @jessedee Know about @fludapp ? Awesome iPad/i...   \n",
       "2  @swonderlin Can not wait for #iPad 2 also. The...   \n",
       "3  @sxsw I hope this year's festival isn't as cra...   \n",
       "4  @sxtxstate great stuff on Fri #SXSW: Marissa M...   \n",
       "\n",
       "  emotion_in_tweet_is_directed_at  target  \\\n",
       "0                          iPhone       0   \n",
       "1              iPad or iPhone App       1   \n",
       "2                            iPad       1   \n",
       "3              iPad or iPhone App       0   \n",
       "4                          Google       1   \n",
       "\n",
       "                                     tweet_lowercase  \\\n",
       "0  .@wesley83 i have a 3g iphone. after 3 hrs twe...   \n",
       "1  @jessedee know about @fludapp ? awesome ipad/i...   \n",
       "2  @swonderlin can not wait for #ipad 2 also. the...   \n",
       "3  @sxsw i hope this year's festival isn't as cra...   \n",
       "4  @sxtxstate great stuff on fri #sxsw: marissa m...   \n",
       "\n",
       "                                      no_punctuation  \n",
       "0  wesley83 i have a 3g iphone after 3 hrs tweeti...  \n",
       "1  jessedee know about fludapp  awesome ipadiphon...  \n",
       "2  swonderlin can not wait for ipad 2 also they s...  \n",
       "3  sxsw i hope this years festival isnt as crashy...  \n",
       "4  sxtxstate great stuff on fri sxsw marissa maye...  "
      ]
     },
     "execution_count": 17,
     "metadata": {},
     "output_type": "execute_result"
    }
   ],
   "source": [
    "# view dataframe\n",
    "df.head()"
   ]
  },
  {
   "cell_type": "code",
   "execution_count": 18,
   "id": "383b4b9b",
   "metadata": {},
   "outputs": [],
   "source": [
    "# remove stop words\n",
    "df['tweets_without_stopwords'] = df['no_punctuation'].apply(\n",
    "    lambda x: ' '.join([word for word in x.split() if word not in (stop)]))"
   ]
  },
  {
   "cell_type": "code",
   "execution_count": 19,
   "id": "7f1ab054",
   "metadata": {},
   "outputs": [
    {
     "data": {
      "text/html": [
       "<div>\n",
       "<style scoped>\n",
       "    .dataframe tbody tr th:only-of-type {\n",
       "        vertical-align: middle;\n",
       "    }\n",
       "\n",
       "    .dataframe tbody tr th {\n",
       "        vertical-align: top;\n",
       "    }\n",
       "\n",
       "    .dataframe thead th {\n",
       "        text-align: right;\n",
       "    }\n",
       "</style>\n",
       "<table border=\"1\" class=\"dataframe\">\n",
       "  <thead>\n",
       "    <tr style=\"text-align: right;\">\n",
       "      <th></th>\n",
       "      <th>tweet_text</th>\n",
       "      <th>emotion_in_tweet_is_directed_at</th>\n",
       "      <th>target</th>\n",
       "      <th>tweet_lowercase</th>\n",
       "      <th>no_punctuation</th>\n",
       "      <th>tweets_without_stopwords</th>\n",
       "    </tr>\n",
       "  </thead>\n",
       "  <tbody>\n",
       "    <tr>\n",
       "      <th>0</th>\n",
       "      <td>.@wesley83 I have a 3G iPhone. After 3 hrs twe...</td>\n",
       "      <td>iPhone</td>\n",
       "      <td>0</td>\n",
       "      <td>.@wesley83 i have a 3g iphone. after 3 hrs twe...</td>\n",
       "      <td>wesley83 i have a 3g iphone after 3 hrs tweeti...</td>\n",
       "      <td>wesley83 3g iphone 3 hrs tweeting riseaustin d...</td>\n",
       "    </tr>\n",
       "    <tr>\n",
       "      <th>1</th>\n",
       "      <td>@jessedee Know about @fludapp ? Awesome iPad/i...</td>\n",
       "      <td>iPad or iPhone App</td>\n",
       "      <td>1</td>\n",
       "      <td>@jessedee know about @fludapp ? awesome ipad/i...</td>\n",
       "      <td>jessedee know about fludapp  awesome ipadiphon...</td>\n",
       "      <td>jessedee know fludapp awesome ipadiphone app y...</td>\n",
       "    </tr>\n",
       "    <tr>\n",
       "      <th>2</th>\n",
       "      <td>@swonderlin Can not wait for #iPad 2 also. The...</td>\n",
       "      <td>iPad</td>\n",
       "      <td>1</td>\n",
       "      <td>@swonderlin can not wait for #ipad 2 also. the...</td>\n",
       "      <td>swonderlin can not wait for ipad 2 also they s...</td>\n",
       "      <td>swonderlin wait ipad 2 also sale sxsw</td>\n",
       "    </tr>\n",
       "    <tr>\n",
       "      <th>3</th>\n",
       "      <td>@sxsw I hope this year's festival isn't as cra...</td>\n",
       "      <td>iPad or iPhone App</td>\n",
       "      <td>0</td>\n",
       "      <td>@sxsw i hope this year's festival isn't as cra...</td>\n",
       "      <td>sxsw i hope this years festival isnt as crashy...</td>\n",
       "      <td>sxsw hope years festival isnt crashy years iph...</td>\n",
       "    </tr>\n",
       "    <tr>\n",
       "      <th>4</th>\n",
       "      <td>@sxtxstate great stuff on Fri #SXSW: Marissa M...</td>\n",
       "      <td>Google</td>\n",
       "      <td>1</td>\n",
       "      <td>@sxtxstate great stuff on fri #sxsw: marissa m...</td>\n",
       "      <td>sxtxstate great stuff on fri sxsw marissa maye...</td>\n",
       "      <td>sxtxstate great stuff fri sxsw marissa mayer g...</td>\n",
       "    </tr>\n",
       "  </tbody>\n",
       "</table>\n",
       "</div>"
      ],
      "text/plain": [
       "                                          tweet_text  \\\n",
       "0  .@wesley83 I have a 3G iPhone. After 3 hrs twe...   \n",
       "1  @jessedee Know about @fludapp ? Awesome iPad/i...   \n",
       "2  @swonderlin Can not wait for #iPad 2 also. The...   \n",
       "3  @sxsw I hope this year's festival isn't as cra...   \n",
       "4  @sxtxstate great stuff on Fri #SXSW: Marissa M...   \n",
       "\n",
       "  emotion_in_tweet_is_directed_at  target  \\\n",
       "0                          iPhone       0   \n",
       "1              iPad or iPhone App       1   \n",
       "2                            iPad       1   \n",
       "3              iPad or iPhone App       0   \n",
       "4                          Google       1   \n",
       "\n",
       "                                     tweet_lowercase  \\\n",
       "0  .@wesley83 i have a 3g iphone. after 3 hrs twe...   \n",
       "1  @jessedee know about @fludapp ? awesome ipad/i...   \n",
       "2  @swonderlin can not wait for #ipad 2 also. the...   \n",
       "3  @sxsw i hope this year's festival isn't as cra...   \n",
       "4  @sxtxstate great stuff on fri #sxsw: marissa m...   \n",
       "\n",
       "                                      no_punctuation  \\\n",
       "0  wesley83 i have a 3g iphone after 3 hrs tweeti...   \n",
       "1  jessedee know about fludapp  awesome ipadiphon...   \n",
       "2  swonderlin can not wait for ipad 2 also they s...   \n",
       "3  sxsw i hope this years festival isnt as crashy...   \n",
       "4  sxtxstate great stuff on fri sxsw marissa maye...   \n",
       "\n",
       "                            tweets_without_stopwords  \n",
       "0  wesley83 3g iphone 3 hrs tweeting riseaustin d...  \n",
       "1  jessedee know fludapp awesome ipadiphone app y...  \n",
       "2              swonderlin wait ipad 2 also sale sxsw  \n",
       "3  sxsw hope years festival isnt crashy years iph...  \n",
       "4  sxtxstate great stuff fri sxsw marissa mayer g...  "
      ]
     },
     "execution_count": 19,
     "metadata": {},
     "output_type": "execute_result"
    }
   ],
   "source": [
    "# view dataframe\n",
    "df.head()"
   ]
  },
  {
   "cell_type": "code",
   "execution_count": 20,
   "id": "d035f7c6",
   "metadata": {},
   "outputs": [
    {
     "data": {
      "text/plain": [
       "sxsw             3655\n",
       "mention          2482\n",
       "link             1310\n",
       "ipad             1164\n",
       "rt               1059\n",
       "                 ... \n",
       "ahh                 1\n",
       "wonderful           1\n",
       "experimenting       1\n",
       "tinkering           1\n",
       "stabilizer          1\n",
       "Length: 6448, dtype: int64"
      ]
     },
     "execution_count": 20,
     "metadata": {},
     "output_type": "execute_result"
    }
   ],
   "source": [
    "# view count of most common words within tweets_without_stopwords\n",
    "df['tweets_without_stopwords'].str.split(expand=True).stack().value_counts()"
   ]
  },
  {
   "cell_type": "code",
   "execution_count": 21,
   "id": "bf9505d7",
   "metadata": {},
   "outputs": [
    {
     "data": {
      "image/png": "[encoded data removed]",
      "text/plain": [
       "<Figure size 432x288 with 1 Axes>"
      ]
     },
     "metadata": {},
     "output_type": "display_data"
    }
   ],
   "source": [
    "# graph of top 10 words of positive tweets\n",
    "with plt.style.context('fivethirtyeight'):\n",
    "    pd.DataFrame(df[df['target'] == 1]['tweets_without_stopwords'].str.split(\n",
    "            expand=True).stack().value_counts().head(11)).drop(\"2\").plot(kind=\"barh\", color=\"c\", legend=False)\n",
    "    plt.gca().invert_yaxis()\n",
    "    plt.xlabel(\"# of tweets\")\n",
    "    plt.title(\"Most common words in positive tweets\")"
   ]
  },
  {
   "cell_type": "code",
   "execution_count": 22,
   "id": "0fbcaa42",
   "metadata": {},
   "outputs": [
    {
     "data": {
      "image/png": "[encoded data removed]",
      "text/plain": [
       "<Figure size 432x288 with 1 Axes>"
      ]
     },
     "metadata": {},
     "output_type": "display_data"
    }
   ],
   "source": [
    "# graph of top 10 words of negative tweets\n",
    "with plt.style.context('fivethirtyeight'):\n",
    "    pd.DataFrame(df[df['target'] == 0]['tweets_without_stopwords'].str.split(\n",
    "            expand=True).stack().value_counts().head(11)).drop(\"2\").plot(kind=\"barh\", color=\"c\", legend=False)\n",
    "    plt.gca().invert_yaxis()\n",
    "    plt.xlabel(\"# of tweets\")\n",
    "    plt.title(\"Most common words in negative tweets\")"
   ]
  },
  {
   "cell_type": "markdown",
   "id": "1b5c0355",
   "metadata": {},
   "source": [
    "# 4. Model"
   ]
  },
  {
   "cell_type": "markdown",
   "id": "19103d5a",
   "metadata": {},
   "source": [
    "#### Train test split"
   ]
  },
  {
   "cell_type": "code",
   "execution_count": 23,
   "id": "28767459",
   "metadata": {},
   "outputs": [],
   "source": [
    "# train test split \n",
    "X = df['tweets_without_stopwords']\n",
    "y = df['target']\n",
    "\n",
    "X_train, X_test, y_train, y_test = train_test_split(X, y, test_size=0.2, random_state=11)"
   ]
  },
  {
   "cell_type": "markdown",
   "id": "6578e094",
   "metadata": {},
   "source": [
    "## Bag of words model iteration\n",
    "### Use logistic regression, decision tree classifier, and random forest classifier"
   ]
  },
  {
   "cell_type": "code",
   "execution_count": 24,
   "id": "a938fd0c",
   "metadata": {
    "scrolled": true
   },
   "outputs": [
    {
     "name": "stdout",
     "output_type": "stream",
     "text": [
      "Training Score: 0.9857349596857556\n",
      "Testing Score: 0.9342948717948717\n"
     ]
    }
   ],
   "source": [
    "lr_basic = model_helper(X, y, LogisticRegression(), bow=True)"
   ]
  },
  {
   "cell_type": "code",
   "execution_count": 25,
   "id": "45fae161",
   "metadata": {},
   "outputs": [
    {
     "name": "stdout",
     "output_type": "stream",
     "text": [
      "Training Score: 0.9997904881625812\n",
      "Testing Score: 0.9157808667211773\n"
     ]
    }
   ],
   "source": [
    "dt_basic = model_helper(X, y, DecisionTreeClassifier(), bow=True)"
   ]
  },
  {
   "cell_type": "code",
   "execution_count": 26,
   "id": "a393b5ba",
   "metadata": {},
   "outputs": [
    {
     "name": "stdout",
     "output_type": "stream",
     "text": [
      "Training Score: 0.9867713931376602\n",
      "Testing Score: 0.9184339314845025\n"
     ]
    }
   ],
   "source": [
    "dt_70 = model_helper(X, y, DecisionTreeClassifier(max_depth=70), bow=True)"
   ]
  },
  {
   "cell_type": "markdown",
   "id": "dd2a7406",
   "metadata": {},
   "source": [
    "### * Best model score 🎉"
   ]
  },
  {
   "cell_type": "code",
   "execution_count": 27,
   "id": "d2452d46",
   "metadata": {},
   "outputs": [
    {
     "name": "stdout",
     "output_type": "stream",
     "text": [
      "Training Score: 0.9997905759162303\n",
      "Testing Score: 0.9319620253164556\n"
     ]
    }
   ],
   "source": [
    "rf = model_helper(X, y, RandomForestClassifier(random_state=11), bow=True)"
   ]
  },
  {
   "cell_type": "code",
   "execution_count": 28,
   "id": "b417646b",
   "metadata": {},
   "outputs": [
    {
     "name": "stdout",
     "output_type": "stream",
     "text": [
      "Training Score: 0.9377332547633078\n",
      "Testing Score: 0.9155693261037955\n"
     ]
    }
   ],
   "source": [
    "rf_50 = model_helper(X, y, RandomForestClassifier(max_depth=50, random_state=11), bow=True)"
   ]
  },
  {
   "cell_type": "markdown",
   "id": "f6c8df7c",
   "metadata": {},
   "source": [
    "## Bag of words with class_weight=\"balanced\" model iteration\n",
    "### Use logistic regression, decision tree classifier, and random forest classifier"
   ]
  },
  {
   "cell_type": "code",
   "execution_count": 29,
   "id": "754f546a",
   "metadata": {},
   "outputs": [
    {
     "name": "stdout",
     "output_type": "stream",
     "text": [
      "Training Score: 0.9902789518174133\n",
      "Testing Score: 0.9226890756302522\n"
     ]
    }
   ],
   "source": [
    "lr_cw = model_helper(X, y, LogisticRegression(class_weight=\"balanced\"), bow=True)"
   ]
  },
  {
   "cell_type": "code",
   "execution_count": 30,
   "id": "0203bbf3",
   "metadata": {},
   "outputs": [
    {
     "name": "stdout",
     "output_type": "stream",
     "text": [
      "Training Score: 0.9997904881625812\n",
      "Testing Score: 0.8929503916449086\n"
     ]
    }
   ],
   "source": [
    "dt_cw = model_helper(X, y, DecisionTreeClassifier(class_weight=\"balanced\"), bow=True)"
   ]
  },
  {
   "cell_type": "code",
   "execution_count": 31,
   "id": "853d37ab",
   "metadata": {},
   "outputs": [
    {
     "name": "stdout",
     "output_type": "stream",
     "text": [
      "Training Score: 0.9997905759162303\n",
      "Testing Score: 0.9296442687747035\n"
     ]
    }
   ],
   "source": [
    "rf_cw = model_helper(X, y, RandomForestClassifier(class_weight=\"balanced\", random_state=11), bow=True)"
   ]
  },
  {
   "cell_type": "markdown",
   "id": "bfa90584",
   "metadata": {},
   "source": [
    "## Tfidf model iteration\n",
    "### Use logistic regression, decision tree classifier, and random forest classifier"
   ]
  },
  {
   "cell_type": "code",
   "execution_count": 32,
   "id": "b7fed229",
   "metadata": {},
   "outputs": [
    {
     "name": "stdout",
     "output_type": "stream",
     "text": [
      "Training Score: 0.922660479505027\n",
      "Testing Score: 0.91415313225058\n"
     ]
    }
   ],
   "source": [
    "lr_tfidf = model_helper(X, y, LogisticRegression(), bow=False)"
   ]
  },
  {
   "cell_type": "code",
   "execution_count": 33,
   "id": "381f2350",
   "metadata": {},
   "outputs": [
    {
     "name": "stdout",
     "output_type": "stream",
     "text": [
      "Training Score: 0.9997904881625812\n",
      "Testing Score: 0.9062499999999999\n"
     ]
    }
   ],
   "source": [
    "dt_tfidf = model_helper(X, y, DecisionTreeClassifier(), bow=False)"
   ]
  },
  {
   "cell_type": "code",
   "execution_count": 34,
   "id": "7f834f80",
   "metadata": {},
   "outputs": [
    {
     "name": "stdout",
     "output_type": "stream",
     "text": [
      "Training Score: 0.9997905759162303\n",
      "Testing Score: 0.9231974921630094\n"
     ]
    }
   ],
   "source": [
    "rf_tfidf = model_helper(X, y, RandomForestClassifier(random_state=11), bow=False)"
   ]
  },
  {
   "cell_type": "markdown",
   "id": "2a5f1a37",
   "metadata": {},
   "source": [
    "## Tfidf and class_weight=\"balanced\" model iteration\n",
    "### Use logistic regression, decision tree classifier, and random forest classifier"
   ]
  },
  {
   "cell_type": "code",
   "execution_count": 35,
   "id": "43637ef7",
   "metadata": {},
   "outputs": [
    {
     "name": "stdout",
     "output_type": "stream",
     "text": [
      "Training Score: 0.9650259067357513\n",
      "Testing Score: 0.9100257069408739\n"
     ]
    }
   ],
   "source": [
    "lr_tfidf = model_helper(X, y, LogisticRegression(class_weight=\"balanced\"), bow=False)"
   ]
  },
  {
   "cell_type": "code",
   "execution_count": 36,
   "id": "fd225650",
   "metadata": {},
   "outputs": [
    {
     "name": "stdout",
     "output_type": "stream",
     "text": [
      "Training Score: 0.9997904881625812\n",
      "Testing Score: 0.8800000000000001\n"
     ]
    }
   ],
   "source": [
    "dt_tfidf = model_helper(X, y, DecisionTreeClassifier(class_weight=\"balanced\"), bow=False)"
   ]
  },
  {
   "cell_type": "code",
   "execution_count": 37,
   "id": "afaa95d3",
   "metadata": {},
   "outputs": [
    {
     "name": "stdout",
     "output_type": "stream",
     "text": [
      "Training Score: 0.9997905759162303\n",
      "Testing Score: 0.923682140047207\n"
     ]
    }
   ],
   "source": [
    "rf_tfidf = model_helper(X, y, RandomForestClassifier(class_weight=\"balanced\", random_state=11), bow=False)"
   ]
  },
  {
   "cell_type": "markdown",
   "id": "43e00db0",
   "metadata": {},
   "source": [
    "# 5. Interpret"
   ]
  },
  {
   "cell_type": "code",
   "execution_count": 38,
   "id": "b946355f",
   "metadata": {},
   "outputs": [],
   "source": [
    "# Make confusion matrix\n",
    "vectorizer = CountVectorizer()\n",
    "X_train_bow = vectorizer.fit_transform(X_train)\n",
    "X_test_bow = vectorizer.transform(X_test)"
   ]
  },
  {
   "cell_type": "code",
   "execution_count": 39,
   "id": "f4ea232e",
   "metadata": {},
   "outputs": [
    {
     "name": "stderr",
     "output_type": "stream",
     "text": [
      "C:\\Users\\Jeff\\anaconda3\\lib\\site-packages\\sklearn\\utils\\deprecation.py:87: FutureWarning: Function plot_confusion_matrix is deprecated; Function `plot_confusion_matrix` is deprecated in 1.0 and will be removed in 1.2. Use one of the class methods: ConfusionMatrixDisplay.from_predictions or ConfusionMatrixDisplay.from_estimator.\n",
      "  warnings.warn(msg, category=FutureWarning)\n"
     ]
    },
    {
     "data": {
      "text/plain": [
       "<sklearn.metrics._plot.confusion_matrix.ConfusionMatrixDisplay at 0x239aa93ad90>"
      ]
     },
     "execution_count": 39,
     "metadata": {},
     "output_type": "execute_result"
    },
    {
     "data": {
      "image/png": "[encoded data removed]",
      "text/plain": [
       "<Figure size 432x288 with 2 Axes>"
      ]
     },
     "metadata": {
      "needs_background": "light"
     },
     "output_type": "display_data"
    }
   ],
   "source": [
    "# confusion matrix with best model, random forest\n",
    "plot_confusion_matrix(rf, X_test_bow, y_test)"
   ]
  },
  {
   "cell_type": "code",
   "execution_count": 40,
   "id": "79c9d4ea",
   "metadata": {},
   "outputs": [],
   "source": [
    "# make feature importance plot\n",
    "feat_importance = pd.DataFrame({\"word\": vectorizer.get_feature_names_out(), \n",
    "                               \"importance\": rf.feature_importances_})"
   ]
  },
  {
   "cell_type": "code",
   "execution_count": 41,
   "id": "e4275d9d",
   "metadata": {},
   "outputs": [
    {
     "data": {
      "text/html": [
       "<div>\n",
       "<style scoped>\n",
       "    .dataframe tbody tr th:only-of-type {\n",
       "        vertical-align: middle;\n",
       "    }\n",
       "\n",
       "    .dataframe tbody tr th {\n",
       "        vertical-align: top;\n",
       "    }\n",
       "\n",
       "    .dataframe thead th {\n",
       "        text-align: right;\n",
       "    }\n",
       "</style>\n",
       "<table border=\"1\" class=\"dataframe\">\n",
       "  <thead>\n",
       "    <tr style=\"text-align: right;\">\n",
       "      <th></th>\n",
       "      <th>word</th>\n",
       "      <th>importance</th>\n",
       "    </tr>\n",
       "  </thead>\n",
       "  <tbody>\n",
       "    <tr>\n",
       "      <th>2898</th>\n",
       "      <td>link</td>\n",
       "      <td>0.011992</td>\n",
       "    </tr>\n",
       "    <tr>\n",
       "      <th>2270</th>\n",
       "      <td>headaches</td>\n",
       "      <td>0.010007</td>\n",
       "    </tr>\n",
       "    <tr>\n",
       "      <th>3121</th>\n",
       "      <td>mention</td>\n",
       "      <td>0.008952</td>\n",
       "    </tr>\n",
       "    <tr>\n",
       "      <th>1761</th>\n",
       "      <td>fail</td>\n",
       "      <td>0.008176</td>\n",
       "    </tr>\n",
       "    <tr>\n",
       "      <th>1785</th>\n",
       "      <td>fascist</td>\n",
       "      <td>0.007439</td>\n",
       "    </tr>\n",
       "    <tr>\n",
       "      <th>2259</th>\n",
       "      <td>hate</td>\n",
       "      <td>0.006425</td>\n",
       "    </tr>\n",
       "    <tr>\n",
       "      <th>2599</th>\n",
       "      <td>ipad</td>\n",
       "      <td>0.005673</td>\n",
       "    </tr>\n",
       "    <tr>\n",
       "      <th>2618</th>\n",
       "      <td>iphone</td>\n",
       "      <td>0.005211</td>\n",
       "    </tr>\n",
       "    <tr>\n",
       "      <th>1460</th>\n",
       "      <td>doesnt</td>\n",
       "      <td>0.005178</td>\n",
       "    </tr>\n",
       "    <tr>\n",
       "      <th>4249</th>\n",
       "      <td>rt</td>\n",
       "      <td>0.005018</td>\n",
       "    </tr>\n",
       "  </tbody>\n",
       "</table>\n",
       "</div>"
      ],
      "text/plain": [
       "           word  importance\n",
       "2898       link    0.011992\n",
       "2270  headaches    0.010007\n",
       "3121    mention    0.008952\n",
       "1761       fail    0.008176\n",
       "1785    fascist    0.007439\n",
       "2259       hate    0.006425\n",
       "2599       ipad    0.005673\n",
       "2618     iphone    0.005211\n",
       "1460     doesnt    0.005178\n",
       "4249         rt    0.005018"
      ]
     },
     "execution_count": 41,
     "metadata": {},
     "output_type": "execute_result"
    }
   ],
   "source": [
    "# view feature importance\n",
    "fi = feat_importance.sort_values(by=\"importance\", ascending=False).head(10)\n",
    "fi"
   ]
  },
  {
   "cell_type": "code",
   "execution_count": 42,
   "id": "ef25ee79",
   "metadata": {},
   "outputs": [
    {
     "data": {
      "image/png": "[encoded data removed]",
      "text/plain": [
       "<Figure size 432x288 with 1 Axes>"
      ]
     },
     "metadata": {},
     "output_type": "display_data"
    }
   ],
   "source": [
    "# graph of most important words with the above feature importance plot\n",
    "with plt.style.context('fivethirtyeight'):\n",
    "    plt.barh(y=fi[\"word\"], width=fi[\"importance\"], color=['#5cb85c', '#d9534f','#5cb85c','#d9534f', '#d9534f',\n",
    "                                                          '#d9534f', '#5cb85c', '#5cb85c', '#d9534f',  '#5cb85c' ])\n",
    "    plt.gca().invert_yaxis()\n",
    "    \n",
    "    red_patch = mpatches.Patch(color= '#d9534f', label='Negative tweets')\n",
    "    green_patch = mpatches.Patch(color= '#5cb85c', label='Positive tweets')\n",
    "\n",
    "    plt.legend(handles=[red_patch, green_patch], bbox_to_anchor=(1, 0.5))\n",
    "    plt.xlabel('Feature Importance')\n",
    "    plt.title('Most Important Words');"
   ]
  },
  {
   "cell_type": "code",
   "execution_count": 43,
   "id": "2b897136",
   "metadata": {},
   "outputs": [
    {
     "name": "stdout",
     "output_type": "stream",
     "text": [
      "postive count: 922\n",
      "negative count: 137\n"
     ]
    }
   ],
   "source": [
    "# look at target count by keyword function\n",
    "word_count_by_class(\"rt\", df)"
   ]
  },
  {
   "cell_type": "code",
   "execution_count": 44,
   "id": "01cc5478",
   "metadata": {},
   "outputs": [
    {
     "name": "stdout",
     "output_type": "stream",
     "text": [
      "positive - Excited to meet the @samsungmobileus at #sxsw so I can show them my Sprint Galaxy S still running Android 2.1.   #fail\n",
      "positive - I love my @mention iPhone case from #Sxsw but I can't get my phone out of it #fail\n",
      "positive - How could I forget my cell phone today for #SXSW what a fail glad I have my iPad #lifelinetotheworld\n",
      "negative - So we get to see google fail at social on another day RT @mention Okay, no Google Circles debuting at #sxsw today\n",
      "negative - @mention @mention @mention @mention Paper phones?  Means an iPad will likely be useless at #sxsw as well. #fail\n",
      "negative - 2+ hour wait at the makeshift Apple store for iPad 2. #fail #sxsw\n",
      "negative - @mention another google social failure? #sxsw\n",
      "negative - Stupid technology! You always fail at important times! At #SXSW w/ an iPhone, laptop AND Blackberry and the only thing working is my pen.\n",
      "positive - Fail Whale artist @mention living through the iPad 2 #sxsw {link}\n",
      "negative - #sxsw live stream not working on iPad #fail {link}\n",
      "negative - just walked by the line for the iPad 2. Bahahahaha! at least 5 blocks long. #fail #SXSW\n",
      "positive - I convinced myself not to upgrade to iPad 2. But then I just held one at the #SxSW trade show... and failed my willpower check.\n",
      "negative - To my friends at #SXSW who think I abandoned you, in reality I just didn't have any means of communication, my iPhone stopped working. #fail\n",
      "negative - Oh no utter @mention #sxsw fail. Can't see the letter of the ballroom in the iPhone app as it is too long and doesn't wrap /cc @mention\n",
      "negative - google presentation by Mayer is a sales pitch #fail #sxsw\n",
      "negative - Beware, the android #sxsw app for schedules is completely innacurate. Just walked to the hyatt for no reason #sxswfail\n",
      "negative - @mention I outdid myself this time with the tech #FAIL. iPhone=broken. Might be the worst thing that can ever happen at #sxsw\n",
      "negative - Techie Fail RT @mention One #SXSW panel moderator who is from Europe says he spent $3000 in roaming charges on his iPhone at SXSW 2010.\n",
      "negative - Hey @mention got invited to a new group at #SXSW and your Android app keeps crashing when I try to join! WTF? #sxswfail\n",
      "positive - Tech Check podcast -- #SxSW #Android passes #BlackBerry, a big Twitter #fail! -- {link} by @mention #sxsw #cnn\n",
      "positive - Tech Check podcast -- South By Southwest, Android passes BlackBerry, a big Twitter fail -- {link} #sxsw #cnn\n",
      "negative - After failure of Google buzz, Google Latitude, now Google Circle! Seriously Google needs to concentrate more on search! #FAIL #google #sxsw\n",
      "negative - Does anyone have an address for the yeasayer concert tonight? Google maps is failing. #sxsw\n",
      "negative - My tweeting from #sxsw been pretty non existent today thanks to the @mention iPhone app #fail - Hootsuite is the epic replacement! #owllove\n",
      "negative - Excited to meet the @mention at #sxsw so I can show them my Sprint Galaxy S still running Android 2.1.   #fail\n",
      "positive - RT @mention Fail Whale artist @mention living through the iPad 2 #sxsw {link}\n",
      "negative - RT @mention google presentation by Mayer is a sales pitch #fail #sxsw\n",
      "positive - RT @mention I convinced myself not to upgrade to iPad 2. But then I just held one at the #SxSW trade show... and failed my willpower check.\n",
      "negative - #sxsw iPhone app: control mania! Half of the screen used for buttons and filters, other half for content. #ui-fail\n",
      "negative - Twitter you have failed me for the last time *force chokes iPhone* #sxsw\n",
      "negative - #Circles set to fail for being too complicated by June. RT @mention Google set to launch new social network #Circles today at #sxsw\n",
      "negative - Massive #sxsw fail to run out of #iPad2 @mention Should have had a semi full parked out front! #justsayin {link}\n"
     ]
    }
   ],
   "source": [
    "# find tweets by keyword function\n",
    "tweet_finder_by_word(\"fail\", df)"
   ]
  },
  {
   "cell_type": "markdown",
   "id": "e3cae9ec",
   "metadata": {},
   "source": [
    "# Conclusions and Future Work\n",
    "\n",
    "### Using a machine learning, we can predict whether a tweet is positive. Negative tweets have strongly negative words while positive tweets have less distinctive words that indicate positivity. For future work, I’d look at the labels of the tweets. There are some tweets that appeared to be incorrectly labeled within the dataset.\n"
   ]
  }
 ],
 "metadata": {
  "kernelspec": {
   "display_name": "Python 3 (ipykernel)",
   "language": "python",
   "name": "python3"
  },
  "language_info": {
   "codemirror_mode": {
    "name": "ipython",
    "version": 3
   },
   "file_extension": ".py",
   "mimetype": "text/x-python",
   "name": "python",
   "nbconvert_exporter": "python",
   "pygments_lexer": "ipython3",
   "version": "3.9.12"
  }
 },
 "nbformat": 4,
 "nbformat_minor": 5
}
