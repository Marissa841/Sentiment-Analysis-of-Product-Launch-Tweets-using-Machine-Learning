{
 "cells": [
  {
   "cell_type": "markdown",
   "id": "2715fa90",
   "metadata": {},
   "source": [
    "# Business Problem\n",
    "### This project determines which tweets can be correctly identified to contain  either positive sentiments (“Positive emotion”) or negative sentiments (“Negative emotion”) using a binary classifier. \n"
   ]
  },
  {
   "cell_type": "code",
   "execution_count": null,
   "id": "de6414bb",
   "metadata": {},
   "outputs": [],
   "source": [
    "# imports\n",
    "\n",
    "import pandas as pd\n",
    "import numpy as np\n",
    "import matplotlib.pyplot as plt\n",
    "\n",
    "from sklearn.feature_extraction.text import CountVectorizer, TfidfVectorizer\n",
    "from sklearn.model_selection import train_test_split\n",
    "from sklearn.linear_model import LogisticRegression\n",
    "from sklearn.tree import DecisionTreeClassifier\n",
    "from sklearn.ensemble import RandomForestClassifier\n",
    "from sklearn.metrics import plot_confusion_matrix\n",
    "from sklearn.metrics import f1_score\n",
    "\n",
    "import matplotlib.patches as mpatches\n",
    "\n",
    "\n",
    "import string\n",
    "\n",
    "from nltk.corpus import stopwords\n",
    "stop = stopwords.words('english')\n",
    "\n",
    "from helper import model_helper, word_count_by_class, tweet_finder_by_word"
   ]
  },
  {
   "cell_type": "markdown",
   "id": "53b07662",
   "metadata": {},
   "source": [
    "# 1. Obtain"
   ]
  },
  {
   "cell_type": "code",
   "execution_count": null,
   "id": "442986e0",
   "metadata": {},
   "outputs": [],
   "source": [
    "# load in the dataset\n",
    "df = pd.read_csv(\"data/emoting_tweets.csv\", encoding_errors=\"ignore\")\n",
    "df.head()"
   ]
  },
  {
   "cell_type": "markdown",
   "id": "b2bf5198",
   "metadata": {},
   "source": [
    "# 2. Scrub + Explore"
   ]
  },
  {
   "cell_type": "code",
   "execution_count": null,
   "id": "b326f4bb",
   "metadata": {},
   "outputs": [],
   "source": [
    "df.describe()"
   ]
  },
  {
   "cell_type": "code",
   "execution_count": null,
   "id": "04577423",
   "metadata": {},
   "outputs": [],
   "source": [
    "df.shape"
   ]
  },
  {
   "cell_type": "code",
   "execution_count": null,
   "id": "6f3100e5",
   "metadata": {},
   "outputs": [],
   "source": [
    "df.i"
   ]
  },
  {
   "cell_type": "code",
   "execution_count": null,
   "id": "20a95d00",
   "metadata": {},
   "outputs": [],
   "source": [
    "# rename target column\n",
    "df[\"target\"] = df[\"is_there_an_emotion_directed_at_a_brand_or_product\"]"
   ]
  },
  {
   "cell_type": "code",
   "execution_count": null,
   "id": "fc1c72d3",
   "metadata": {},
   "outputs": [],
   "source": [
    "# drop former target column to clean up dataset\n",
    "df.drop(columns=[\"is_there_an_emotion_directed_at_a_brand_or_product\"], inplace=True)"
   ]
  },
  {
   "cell_type": "code",
   "execution_count": null,
   "id": "bbd245d1",
   "metadata": {},
   "outputs": [],
   "source": [
    "# view target column distribution \n",
    "df[\"target\"].value_counts(normalize=True)"
   ]
  },
  {
   "cell_type": "code",
   "execution_count": null,
   "id": "7768b335",
   "metadata": {},
   "outputs": [],
   "source": [
    "# drop two unnecessary target variables\n",
    "df = df[(df[\"target\"] != \"No emotion toward brand or product\") & (df[\"target\"] != \"I can't tell\")]"
   ]
  },
  {
   "cell_type": "code",
   "execution_count": null,
   "id": "d43a77cc",
   "metadata": {},
   "outputs": [],
   "source": [
    "# view target column distribution\n",
    "df[\"target\"].value_counts(normalize=True)"
   ]
  },
  {
   "cell_type": "code",
   "execution_count": null,
   "id": "1d648a04",
   "metadata": {},
   "outputs": [],
   "source": [
    "# View distribution of the target values\n",
    "with plt.style.context('fivethirtyeight'):\n",
    "    df['target'].value_counts().plot(kind='bar', color = \"c\")\n",
    "\n",
    "    # giving title to the plot\n",
    "    plt.title(\"Distribution of tweet sentiment\")\n",
    "\n",
    "    # giving X and Y labels\n",
    "    plt.xlabel(\"tweets\")\n",
    "    plt.xticks(rotation = 0)\n",
    "    plt.ylabel(\"# of tweets\")\n",
    "\n",
    "    plt.show()"
   ]
  },
  {
   "cell_type": "code",
   "execution_count": null,
   "id": "812ed486",
   "metadata": {},
   "outputs": [],
   "source": [
    "# view target column counts\n",
    "df[\"target\"].value_counts()"
   ]
  },
  {
   "cell_type": "code",
   "execution_count": null,
   "id": "4ae26766",
   "metadata": {},
   "outputs": [],
   "source": [
    "# change \"Positive emotion\" to equal 1 and \"Negative emotion\" to equal 0\n",
    "df[\"target\"] = np.where(df['target'] == \"Positive emotion\", 1, 0)"
   ]
  },
  {
   "cell_type": "code",
   "execution_count": null,
   "id": "2c41c1bd",
   "metadata": {},
   "outputs": [],
   "source": [
    "# confirm change\n",
    "df[\"target\"].value_counts()"
   ]
  },
  {
   "cell_type": "code",
   "execution_count": null,
   "id": "1a5b145d",
   "metadata": {},
   "outputs": [],
   "source": [
    "# set text to lowercase\n",
    "df['tweet_lowercase'] = df['tweet_text'].map(lambda x: str(x).lower())\n",
    "df.head()"
   ]
  },
  {
   "cell_type": "code",
   "execution_count": null,
   "id": "0814848b",
   "metadata": {},
   "outputs": [],
   "source": [
    "# remove punctuation\n",
    "no_punctuation = []\n",
    "for s in df['tweet_lowercase']:\n",
    "    for p in string.punctuation:\n",
    "        s = s.replace(p, '')\n",
    "    no_punctuation.append(s)"
   ]
  },
  {
   "cell_type": "code",
   "execution_count": null,
   "id": "3c42fa7e",
   "metadata": {},
   "outputs": [],
   "source": [
    "# add no_punction column to the dataframe\n",
    "df['no_punctuation'] = no_punctuation"
   ]
  },
  {
   "cell_type": "code",
   "execution_count": null,
   "id": "7b5bb045",
   "metadata": {},
   "outputs": [],
   "source": [
    "# view dataframe\n",
    "df.head()"
   ]
  },
  {
   "cell_type": "code",
   "execution_count": null,
   "id": "383b4b9b",
   "metadata": {},
   "outputs": [],
   "source": [
    "# remove stop words\n",
    "df['tweets_without_stopwords'] = df['no_punctuation'].apply(\n",
    "    lambda x: ' '.join([word for word in x.split() if word not in (stop)]))"
   ]
  },
  {
   "cell_type": "code",
   "execution_count": null,
   "id": "7f1ab054",
   "metadata": {},
   "outputs": [],
   "source": [
    "# view dataframe\n",
    "df.head()"
   ]
  },
  {
   "cell_type": "code",
   "execution_count": null,
   "id": "d035f7c6",
   "metadata": {},
   "outputs": [],
   "source": [
    "# view count of most common words within tweets_without_stopwords\n",
    "df['tweets_without_stopwords'].str.split(expand=True).stack().value_counts()"
   ]
  },
  {
   "cell_type": "code",
   "execution_count": null,
   "id": "bf9505d7",
   "metadata": {},
   "outputs": [],
   "source": [
    "# graph of top 10 words of positive tweets\n",
    "with plt.style.context('fivethirtyeight'):\n",
    "    pd.DataFrame(df[df['target'] == 1]['tweets_without_stopwords'].str.split(\n",
    "            expand=True).stack().value_counts().head(11)).drop(\"2\").plot(kind=\"barh\", color=\"c\", legend=False)\n",
    "    plt.gca().invert_yaxis()\n",
    "    plt.xlabel(\"# of tweets\")\n",
    "    plt.title(\"Most common words in positive tweets\")"
   ]
  },
  {
   "cell_type": "code",
   "execution_count": null,
   "id": "0fbcaa42",
   "metadata": {},
   "outputs": [],
   "source": [
    "# graph of top 10 words of negative tweets\n",
    "with plt.style.context('fivethirtyeight'):\n",
    "    pd.DataFrame(df[df['target'] == 0]['tweets_without_stopwords'].str.split(\n",
    "            expand=True).stack().value_counts().head(11)).drop(\"2\").plot(kind=\"barh\", color=\"c\", legend=False)\n",
    "    plt.gca().invert_yaxis()\n",
    "    plt.xlabel(\"# of tweets\")\n",
    "    plt.title(\"Most common words in negative tweets\")"
   ]
  },
  {
   "cell_type": "markdown",
   "id": "1b5c0355",
   "metadata": {},
   "source": [
    "# 4. Model"
   ]
  },
  {
   "cell_type": "markdown",
   "id": "19103d5a",
   "metadata": {},
   "source": [
    "#### Train test split"
   ]
  },
  {
   "cell_type": "code",
   "execution_count": null,
   "id": "28767459",
   "metadata": {},
   "outputs": [],
   "source": [
    "# train test split \n",
    "X = df['tweets_without_stopwords']\n",
    "y = df['target']\n",
    "\n",
    "X_train, X_test, y_train, y_test = train_test_split(X, y, test_size=0.2, random_state=11)"
   ]
  },
  {
   "cell_type": "markdown",
   "id": "6578e094",
   "metadata": {},
   "source": [
    "## Bag of words model iteration\n",
    "### Use logistic regression, decision tree classifier, and random forest classifier"
   ]
  },
  {
   "cell_type": "code",
   "execution_count": null,
   "id": "a938fd0c",
   "metadata": {
    "scrolled": true
   },
   "outputs": [],
   "source": [
    "lr_basic = model_helper(X, y, LogisticRegression(), bow=True)"
   ]
  },
  {
   "cell_type": "code",
   "execution_count": null,
   "id": "45fae161",
   "metadata": {},
   "outputs": [],
   "source": [
    "dt_basic = model_helper(X, y, DecisionTreeClassifier(), bow=True)"
   ]
  },
  {
   "cell_type": "code",
   "execution_count": null,
   "id": "a393b5ba",
   "metadata": {},
   "outputs": [],
   "source": [
    "dt_70 = model_helper(X, y, DecisionTreeClassifier(max_depth=70), bow=True)"
   ]
  },
  {
   "cell_type": "markdown",
   "id": "dd2a7406",
   "metadata": {},
   "source": [
    "### * Best model score 🎉"
   ]
  },
  {
   "cell_type": "code",
   "execution_count": null,
   "id": "d2452d46",
   "metadata": {},
   "outputs": [],
   "source": [
    "rf = model_helper(X, y, RandomForestClassifier(random_state=11), bow=True)"
   ]
  },
  {
   "cell_type": "code",
   "execution_count": null,
   "id": "b417646b",
   "metadata": {},
   "outputs": [],
   "source": [
    "rf_50 = model_helper(X, y, RandomForestClassifier(max_depth=50, random_state=11), bow=True)"
   ]
  },
  {
   "cell_type": "markdown",
   "id": "f6c8df7c",
   "metadata": {},
   "source": [
    "## Bag of words with class_weight=\"balanced\" model iteration\n",
    "### Use logistic regression, decision tree classifier, and random forest classifier"
   ]
  },
  {
   "cell_type": "code",
   "execution_count": null,
   "id": "754f546a",
   "metadata": {},
   "outputs": [],
   "source": [
    "lr_cw = model_helper(X, y, LogisticRegression(class_weight=\"balanced\"), bow=True)"
   ]
  },
  {
   "cell_type": "code",
   "execution_count": null,
   "id": "0203bbf3",
   "metadata": {},
   "outputs": [],
   "source": [
    "dt_cw = model_helper(X, y, DecisionTreeClassifier(class_weight=\"balanced\"), bow=True)"
   ]
  },
  {
   "cell_type": "code",
   "execution_count": null,
   "id": "853d37ab",
   "metadata": {},
   "outputs": [],
   "source": [
    "rf_cw = model_helper(X, y, RandomForestClassifier(class_weight=\"balanced\", random_state=11), bow=True)"
   ]
  },
  {
   "cell_type": "markdown",
   "id": "bfa90584",
   "metadata": {},
   "source": [
    "## Tfidf model iteration\n",
    "### Use logistic regression, decision tree classifier, and random forest classifier"
   ]
  },
  {
   "cell_type": "code",
   "execution_count": null,
   "id": "b7fed229",
   "metadata": {},
   "outputs": [],
   "source": [
    "lr_tfidf = model_helper(X, y, LogisticRegression(), bow=False)"
   ]
  },
  {
   "cell_type": "code",
   "execution_count": null,
   "id": "381f2350",
   "metadata": {},
   "outputs": [],
   "source": [
    "dt_tfidf = model_helper(X, y, DecisionTreeClassifier(), bow=False)"
   ]
  },
  {
   "cell_type": "code",
   "execution_count": null,
   "id": "7f834f80",
   "metadata": {},
   "outputs": [],
   "source": [
    "rf_tfidf = model_helper(X, y, RandomForestClassifier(random_state=11), bow=False)"
   ]
  },
  {
   "cell_type": "markdown",
   "id": "2a5f1a37",
   "metadata": {},
   "source": [
    "## Tfidf and class_weight=\"balanced\" model iteration\n",
    "### Use logistic regression, decision tree classifier, and random forest classifier"
   ]
  },
  {
   "cell_type": "code",
   "execution_count": null,
   "id": "43637ef7",
   "metadata": {},
   "outputs": [],
   "source": [
    "lr_tfidf = model_helper(X, y, LogisticRegression(class_weight=\"balanced\"), bow=False)"
   ]
  },
  {
   "cell_type": "code",
   "execution_count": null,
   "id": "fd225650",
   "metadata": {},
   "outputs": [],
   "source": [
    "dt_tfidf = model_helper(X, y, DecisionTreeClassifier(class_weight=\"balanced\"), bow=False)"
   ]
  },
  {
   "cell_type": "code",
   "execution_count": null,
   "id": "afaa95d3",
   "metadata": {},
   "outputs": [],
   "source": [
    "rf_tfidf = model_helper(X, y, RandomForestClassifier(class_weight=\"balanced\", random_state=11), bow=False)"
   ]
  },
  {
   "cell_type": "markdown",
   "id": "43e00db0",
   "metadata": {},
   "source": [
    "# 5. Interpret"
   ]
  },
  {
   "cell_type": "code",
   "execution_count": null,
   "id": "b946355f",
   "metadata": {},
   "outputs": [],
   "source": [
    "# Make confusion matrix\n",
    "vectorizer = CountVectorizer()\n",
    "X_train_bow = vectorizer.fit_transform(X_train)\n",
    "X_test_bow = vectorizer.transform(X_test)"
   ]
  },
  {
   "cell_type": "code",
   "execution_count": null,
   "id": "f4ea232e",
   "metadata": {},
   "outputs": [],
   "source": [
    "# confusion matrix with best model, random forest\n",
    "plot_confusion_matrix(rf, X_test_bow, y_test)"
   ]
  },
  {
   "cell_type": "code",
   "execution_count": null,
   "id": "79c9d4ea",
   "metadata": {},
   "outputs": [],
   "source": [
    "# make feature importance plot\n",
    "feat_importance = pd.DataFrame({\"word\": vectorizer.get_feature_names_out(), \n",
    "                               \"importance\": rf.feature_importances_})"
   ]
  },
  {
   "cell_type": "code",
   "execution_count": null,
   "id": "e4275d9d",
   "metadata": {},
   "outputs": [],
   "source": [
    "# view feature importance\n",
    "fi = feat_importance.sort_values(by=\"importance\", ascending=False).head(10)\n",
    "fi"
   ]
  },
  {
   "cell_type": "code",
   "execution_count": null,
   "id": "ef25ee79",
   "metadata": {},
   "outputs": [],
   "source": [
    "# graph of most important words with the above feature importance plot\n",
    "with plt.style.context('fivethirtyeight'):\n",
    "    plt.barh(y=fi[\"word\"], width=fi[\"importance\"], color=['#5cb85c', '#d9534f','#5cb85c','#d9534f', '#d9534f',\n",
    "                                                          '#d9534f', '#5cb85c', '#5cb85c', '#d9534f',  '#5cb85c' ])\n",
    "    plt.gca().invert_yaxis()\n",
    "    \n",
    "    red_patch = mpatches.Patch(color= '#d9534f', label='Negative tweets')\n",
    "    green_patch = mpatches.Patch(color= '#5cb85c', label='Positive tweets')\n",
    "\n",
    "    plt.legend(handles=[red_patch, green_patch], bbox_to_anchor=(1, 0.5))\n",
    "    plt.xlabel('Feature Importance')\n",
    "    plt.title('Most Important Words');"
   ]
  },
  {
   "cell_type": "code",
   "execution_count": null,
   "id": "2b897136",
   "metadata": {},
   "outputs": [],
   "source": [
    "# look at target count by keyword function\n",
    "word_count_by_class(\"rt\", df)"
   ]
  },
  {
   "cell_type": "code",
   "execution_count": null,
   "id": "01cc5478",
   "metadata": {},
   "outputs": [],
   "source": [
    "# find tweets by keyword function\n",
    "tweet_finder_by_word(\"fail\", df)"
   ]
  },
  {
   "cell_type": "markdown",
   "id": "e3cae9ec",
   "metadata": {},
   "source": [
    "# Conclusions and Future Work\n",
    "\n",
    "### Using a machine learning, we can predict whether a tweet is positive. Negative tweets have strongly negative words while positive tweets have less distinctive words that indicate positivity. For future work, I’d look at the labels of the tweets. There are some tweets that appeared to be incorrectly labeled within the dataset.\n"
   ]
  }
 ],
 "metadata": {
  "kernelspec": {
   "display_name": "Python 3 (ipykernel)",
   "language": "python",
   "name": "python3"
  },
  "language_info": {
   "codemirror_mode": {
    "name": "ipython",
    "version": 3
   },
   "file_extension": ".py",
   "mimetype": "text/x-python",
   "name": "python",
   "nbconvert_exporter": "python",
   "pygments_lexer": "ipython3",
   "version": "3.9.12"
  }
 },
 "nbformat": 4,
 "nbformat_minor": 5
}
